{
 "cells": [
  {
   "cell_type": "markdown",
   "metadata": {},
   "source": [
    "\n",
    "# Project: Investigate The Soccer Dataset \n",
    "\n",
    "## Table of Contents\n",
    "<ul>\n",
    "<li><a href=\"#intro\">Introduction</a></li>\n",
    "<li><a href=\"#wrangling\">Data Wrangling</a></li>\n",
    "<li><a href=\"#eda\">Exploratory Data Analysis</a></li>\n",
    "<li><a href=\"#conclusions\">Conclusions</a></li>\n",
    "</ul>"
   ]
  },
  {
   "cell_type": "markdown",
   "metadata": {},
   "source": [
    "<a id='intro'></a>\n",
    "## Introduction\n",
    "\n",
    "> This soccer database comes from Kaggle. It contains data for soccer matches, players, and teams from several European countries from 2008 to 2016.it is stored in an SQLite database.\n",
    ">\n",
    "> The following are questions to be explored using this dataset:\n",
    "\n",
    ">><li>League with the highest number of average goals scored per game\n",
    ">><li>Do home teams win more games than away teams\n",
    ">><li>The teams with the most wins in each League in the 2014/2015 season\n",
    ">><li>Did players in 2016 meet the potential set for them in 2007\n",
    ">><li>Team attribute leading to victory"
   ]
  },
  {
   "cell_type": "markdown",
   "metadata": {},
   "source": [
    "Importing packages<br>\n",
    "Inline and importing data"
   ]
  },
  {
   "cell_type": "code",
   "execution_count": 1,
   "metadata": {},
   "outputs": [],
   "source": [
    "\n",
    "import pandas as pd\n",
    "import numpy as np\n",
    "import matplotlib.pyplot as plt\n",
    "import sqlite3\n",
    "import seaborn as sns\n",
    "\n",
    "sns.set_style(style='darkgrid')\n",
    "\n",
    "%matplotlib inline\n",
    "\n",
    "database = 'database.sqlite'\n",
    "\n",
    "db = sqlite3.connect(database)"
   ]
  },
  {
   "cell_type": "markdown",
   "metadata": {},
   "source": [
    "<a id='wrangling'></a>\n",
    "## Data Wrangling\n",
    "\n",
    "> I Used DB browser to view the various tables and analyse the data, the following are just showing the general properties of each table\n",
    "\n",
    "### General Properties"
   ]
  },
  {
   "cell_type": "code",
   "execution_count": 2,
   "metadata": {},
   "outputs": [
    {
     "data": {
      "text/html": [
       "<div>\n",
       "<style scoped>\n",
       "    .dataframe tbody tr th:only-of-type {\n",
       "        vertical-align: middle;\n",
       "    }\n",
       "\n",
       "    .dataframe tbody tr th {\n",
       "        vertical-align: top;\n",
       "    }\n",
       "\n",
       "    .dataframe thead th {\n",
       "        text-align: right;\n",
       "    }\n",
       "</style>\n",
       "<table border=\"1\" class=\"dataframe\">\n",
       "  <thead>\n",
       "    <tr style=\"text-align: right;\">\n",
       "      <th></th>\n",
       "      <th>type</th>\n",
       "      <th>name</th>\n",
       "      <th>tbl_name</th>\n",
       "      <th>rootpage</th>\n",
       "      <th>sql</th>\n",
       "    </tr>\n",
       "  </thead>\n",
       "  <tbody>\n",
       "    <tr>\n",
       "      <th>0</th>\n",
       "      <td>table</td>\n",
       "      <td>sqlite_sequence</td>\n",
       "      <td>sqlite_sequence</td>\n",
       "      <td>4</td>\n",
       "      <td>CREATE TABLE sqlite_sequence(name,seq)</td>\n",
       "    </tr>\n",
       "    <tr>\n",
       "      <th>1</th>\n",
       "      <td>table</td>\n",
       "      <td>Player_Attributes</td>\n",
       "      <td>Player_Attributes</td>\n",
       "      <td>11</td>\n",
       "      <td>CREATE TABLE \"Player_Attributes\" (\\n\\t`id`\\tIN...</td>\n",
       "    </tr>\n",
       "    <tr>\n",
       "      <th>2</th>\n",
       "      <td>table</td>\n",
       "      <td>Player</td>\n",
       "      <td>Player</td>\n",
       "      <td>14</td>\n",
       "      <td>CREATE TABLE `Player` (\\n\\t`id`\\tINTEGER PRIMA...</td>\n",
       "    </tr>\n",
       "    <tr>\n",
       "      <th>3</th>\n",
       "      <td>table</td>\n",
       "      <td>Match</td>\n",
       "      <td>Match</td>\n",
       "      <td>18</td>\n",
       "      <td>CREATE TABLE `Match` (\\n\\t`id`\\tINTEGER PRIMAR...</td>\n",
       "    </tr>\n",
       "    <tr>\n",
       "      <th>4</th>\n",
       "      <td>table</td>\n",
       "      <td>League</td>\n",
       "      <td>League</td>\n",
       "      <td>24</td>\n",
       "      <td>CREATE TABLE `League` (\\n\\t`id`\\tINTEGER PRIMA...</td>\n",
       "    </tr>\n",
       "    <tr>\n",
       "      <th>5</th>\n",
       "      <td>table</td>\n",
       "      <td>Country</td>\n",
       "      <td>Country</td>\n",
       "      <td>26</td>\n",
       "      <td>CREATE TABLE `Country` (\\n\\t`id`\\tINTEGER PRIM...</td>\n",
       "    </tr>\n",
       "    <tr>\n",
       "      <th>6</th>\n",
       "      <td>table</td>\n",
       "      <td>Team</td>\n",
       "      <td>Team</td>\n",
       "      <td>29</td>\n",
       "      <td>CREATE TABLE \"Team\" (\\n\\t`id`\\tINTEGER PRIMARY...</td>\n",
       "    </tr>\n",
       "    <tr>\n",
       "      <th>7</th>\n",
       "      <td>table</td>\n",
       "      <td>Team_Attributes</td>\n",
       "      <td>Team_Attributes</td>\n",
       "      <td>2</td>\n",
       "      <td>CREATE TABLE `Team_Attributes` (\\n\\t`id`\\tINTE...</td>\n",
       "    </tr>\n",
       "  </tbody>\n",
       "</table>\n",
       "</div>"
      ],
      "text/plain": [
       "    type               name           tbl_name  rootpage  \\\n",
       "0  table    sqlite_sequence    sqlite_sequence         4   \n",
       "1  table  Player_Attributes  Player_Attributes        11   \n",
       "2  table             Player             Player        14   \n",
       "3  table              Match              Match        18   \n",
       "4  table             League             League        24   \n",
       "5  table            Country            Country        26   \n",
       "6  table               Team               Team        29   \n",
       "7  table    Team_Attributes    Team_Attributes         2   \n",
       "\n",
       "                                                 sql  \n",
       "0             CREATE TABLE sqlite_sequence(name,seq)  \n",
       "1  CREATE TABLE \"Player_Attributes\" (\\n\\t`id`\\tIN...  \n",
       "2  CREATE TABLE `Player` (\\n\\t`id`\\tINTEGER PRIMA...  \n",
       "3  CREATE TABLE `Match` (\\n\\t`id`\\tINTEGER PRIMAR...  \n",
       "4  CREATE TABLE `League` (\\n\\t`id`\\tINTEGER PRIMA...  \n",
       "5  CREATE TABLE `Country` (\\n\\t`id`\\tINTEGER PRIM...  \n",
       "6  CREATE TABLE \"Team\" (\\n\\t`id`\\tINTEGER PRIMARY...  \n",
       "7  CREATE TABLE `Team_Attributes` (\\n\\t`id`\\tINTE...  "
      ]
     },
     "execution_count": 2,
     "metadata": {},
     "output_type": "execute_result"
    }
   ],
   "source": [
    "db_info = pd.read_sql(\"\"\" \n",
    "                        SElECT *\n",
    "                        FROM sqlite_master\n",
    "                        WHERE type == 'table'                       \n",
    "                        \n",
    "                        \"\"\", db )\n",
    "\n",
    "db_info                     "
   ]
  },
  {
   "cell_type": "code",
   "execution_count": 3,
   "metadata": {},
   "outputs": [
    {
     "data": {
      "text/html": [
       "<div>\n",
       "<style scoped>\n",
       "    .dataframe tbody tr th:only-of-type {\n",
       "        vertical-align: middle;\n",
       "    }\n",
       "\n",
       "    .dataframe tbody tr th {\n",
       "        vertical-align: top;\n",
       "    }\n",
       "\n",
       "    .dataframe thead th {\n",
       "        text-align: right;\n",
       "    }\n",
       "</style>\n",
       "<table border=\"1\" class=\"dataframe\">\n",
       "  <thead>\n",
       "    <tr style=\"text-align: right;\">\n",
       "      <th></th>\n",
       "      <th>id</th>\n",
       "      <th>country_id</th>\n",
       "      <th>name</th>\n",
       "    </tr>\n",
       "  </thead>\n",
       "  <tbody>\n",
       "    <tr>\n",
       "      <th>0</th>\n",
       "      <td>1</td>\n",
       "      <td>1</td>\n",
       "      <td>Belgium Jupiler League</td>\n",
       "    </tr>\n",
       "    <tr>\n",
       "      <th>1</th>\n",
       "      <td>1729</td>\n",
       "      <td>1729</td>\n",
       "      <td>England Premier League</td>\n",
       "    </tr>\n",
       "    <tr>\n",
       "      <th>2</th>\n",
       "      <td>4769</td>\n",
       "      <td>4769</td>\n",
       "      <td>France Ligue 1</td>\n",
       "    </tr>\n",
       "    <tr>\n",
       "      <th>3</th>\n",
       "      <td>7809</td>\n",
       "      <td>7809</td>\n",
       "      <td>Germany 1. Bundesliga</td>\n",
       "    </tr>\n",
       "    <tr>\n",
       "      <th>4</th>\n",
       "      <td>10257</td>\n",
       "      <td>10257</td>\n",
       "      <td>Italy Serie A</td>\n",
       "    </tr>\n",
       "    <tr>\n",
       "      <th>5</th>\n",
       "      <td>13274</td>\n",
       "      <td>13274</td>\n",
       "      <td>Netherlands Eredivisie</td>\n",
       "    </tr>\n",
       "    <tr>\n",
       "      <th>6</th>\n",
       "      <td>15722</td>\n",
       "      <td>15722</td>\n",
       "      <td>Poland Ekstraklasa</td>\n",
       "    </tr>\n",
       "    <tr>\n",
       "      <th>7</th>\n",
       "      <td>17642</td>\n",
       "      <td>17642</td>\n",
       "      <td>Portugal Liga ZON Sagres</td>\n",
       "    </tr>\n",
       "    <tr>\n",
       "      <th>8</th>\n",
       "      <td>19694</td>\n",
       "      <td>19694</td>\n",
       "      <td>Scotland Premier League</td>\n",
       "    </tr>\n",
       "    <tr>\n",
       "      <th>9</th>\n",
       "      <td>21518</td>\n",
       "      <td>21518</td>\n",
       "      <td>Spain LIGA BBVA</td>\n",
       "    </tr>\n",
       "    <tr>\n",
       "      <th>10</th>\n",
       "      <td>24558</td>\n",
       "      <td>24558</td>\n",
       "      <td>Switzerland Super League</td>\n",
       "    </tr>\n",
       "  </tbody>\n",
       "</table>\n",
       "</div>"
      ],
      "text/plain": [
       "       id  country_id                      name\n",
       "0       1           1    Belgium Jupiler League\n",
       "1    1729        1729    England Premier League\n",
       "2    4769        4769            France Ligue 1\n",
       "3    7809        7809     Germany 1. Bundesliga\n",
       "4   10257       10257             Italy Serie A\n",
       "5   13274       13274    Netherlands Eredivisie\n",
       "6   15722       15722        Poland Ekstraklasa\n",
       "7   17642       17642  Portugal Liga ZON Sagres\n",
       "8   19694       19694   Scotland Premier League\n",
       "9   21518       21518           Spain LIGA BBVA\n",
       "10  24558       24558  Switzerland Super League"
      ]
     },
     "execution_count": 3,
     "metadata": {},
     "output_type": "execute_result"
    }
   ],
   "source": [
    "leagues = pd.read_sql(\"\"\"\n",
    "                    SElECT *\n",
    "                    FROM league\n",
    "                    \n",
    "                    \"\"\", db)\n",
    "leagues\n"
   ]
  },
  {
   "cell_type": "code",
   "execution_count": 4,
   "metadata": {},
   "outputs": [
    {
     "name": "stdout",
     "output_type": "stream",
     "text": [
      "<class 'pandas.core.frame.DataFrame'>\n",
      "RangeIndex: 11060 entries, 0 to 11059\n",
      "Data columns (total 7 columns):\n",
      " #   Column              Non-Null Count  Dtype  \n",
      "---  ------              --------------  -----  \n",
      " 0   id                  11060 non-null  int64  \n",
      " 1   player_api_id       11060 non-null  int64  \n",
      " 2   player_name         11060 non-null  object \n",
      " 3   player_fifa_api_id  11060 non-null  int64  \n",
      " 4   birthday            11060 non-null  object \n",
      " 5   height              11060 non-null  float64\n",
      " 6   weight              11060 non-null  int64  \n",
      "dtypes: float64(1), int64(4), object(2)\n",
      "memory usage: 605.0+ KB\n"
     ]
    }
   ],
   "source": [
    "players = pd.read_sql(\"\"\"\n",
    "                    SElECT *\n",
    "                    FROM player\n",
    "                    \n",
    "                    \"\"\", db)\n",
    "players.info()\n"
   ]
  },
  {
   "cell_type": "code",
   "execution_count": 5,
   "metadata": {},
   "outputs": [
    {
     "data": {
      "text/html": [
       "<div>\n",
       "<style scoped>\n",
       "    .dataframe tbody tr th:only-of-type {\n",
       "        vertical-align: middle;\n",
       "    }\n",
       "\n",
       "    .dataframe tbody tr th {\n",
       "        vertical-align: top;\n",
       "    }\n",
       "\n",
       "    .dataframe thead th {\n",
       "        text-align: right;\n",
       "    }\n",
       "</style>\n",
       "<table border=\"1\" class=\"dataframe\">\n",
       "  <thead>\n",
       "    <tr style=\"text-align: right;\">\n",
       "      <th></th>\n",
       "      <th>id</th>\n",
       "      <th>player_fifa_api_id</th>\n",
       "      <th>player_api_id</th>\n",
       "      <th>date</th>\n",
       "      <th>overall_rating</th>\n",
       "      <th>potential</th>\n",
       "      <th>preferred_foot</th>\n",
       "      <th>attacking_work_rate</th>\n",
       "      <th>defensive_work_rate</th>\n",
       "      <th>crossing</th>\n",
       "      <th>...</th>\n",
       "      <th>vision</th>\n",
       "      <th>penalties</th>\n",
       "      <th>marking</th>\n",
       "      <th>standing_tackle</th>\n",
       "      <th>sliding_tackle</th>\n",
       "      <th>gk_diving</th>\n",
       "      <th>gk_handling</th>\n",
       "      <th>gk_kicking</th>\n",
       "      <th>gk_positioning</th>\n",
       "      <th>gk_reflexes</th>\n",
       "    </tr>\n",
       "  </thead>\n",
       "  <tbody>\n",
       "    <tr>\n",
       "      <th>0</th>\n",
       "      <td>1</td>\n",
       "      <td>218353</td>\n",
       "      <td>505942</td>\n",
       "      <td>2016-02-18 00:00:00</td>\n",
       "      <td>67.0</td>\n",
       "      <td>71.0</td>\n",
       "      <td>right</td>\n",
       "      <td>medium</td>\n",
       "      <td>medium</td>\n",
       "      <td>49.0</td>\n",
       "      <td>...</td>\n",
       "      <td>54.0</td>\n",
       "      <td>48.0</td>\n",
       "      <td>65.0</td>\n",
       "      <td>69.0</td>\n",
       "      <td>69.0</td>\n",
       "      <td>6.0</td>\n",
       "      <td>11.0</td>\n",
       "      <td>10.0</td>\n",
       "      <td>8.0</td>\n",
       "      <td>8.0</td>\n",
       "    </tr>\n",
       "    <tr>\n",
       "      <th>1</th>\n",
       "      <td>2</td>\n",
       "      <td>218353</td>\n",
       "      <td>505942</td>\n",
       "      <td>2015-11-19 00:00:00</td>\n",
       "      <td>67.0</td>\n",
       "      <td>71.0</td>\n",
       "      <td>right</td>\n",
       "      <td>medium</td>\n",
       "      <td>medium</td>\n",
       "      <td>49.0</td>\n",
       "      <td>...</td>\n",
       "      <td>54.0</td>\n",
       "      <td>48.0</td>\n",
       "      <td>65.0</td>\n",
       "      <td>69.0</td>\n",
       "      <td>69.0</td>\n",
       "      <td>6.0</td>\n",
       "      <td>11.0</td>\n",
       "      <td>10.0</td>\n",
       "      <td>8.0</td>\n",
       "      <td>8.0</td>\n",
       "    </tr>\n",
       "    <tr>\n",
       "      <th>2</th>\n",
       "      <td>3</td>\n",
       "      <td>218353</td>\n",
       "      <td>505942</td>\n",
       "      <td>2015-09-21 00:00:00</td>\n",
       "      <td>62.0</td>\n",
       "      <td>66.0</td>\n",
       "      <td>right</td>\n",
       "      <td>medium</td>\n",
       "      <td>medium</td>\n",
       "      <td>49.0</td>\n",
       "      <td>...</td>\n",
       "      <td>54.0</td>\n",
       "      <td>48.0</td>\n",
       "      <td>65.0</td>\n",
       "      <td>66.0</td>\n",
       "      <td>69.0</td>\n",
       "      <td>6.0</td>\n",
       "      <td>11.0</td>\n",
       "      <td>10.0</td>\n",
       "      <td>8.0</td>\n",
       "      <td>8.0</td>\n",
       "    </tr>\n",
       "    <tr>\n",
       "      <th>3</th>\n",
       "      <td>4</td>\n",
       "      <td>218353</td>\n",
       "      <td>505942</td>\n",
       "      <td>2015-03-20 00:00:00</td>\n",
       "      <td>61.0</td>\n",
       "      <td>65.0</td>\n",
       "      <td>right</td>\n",
       "      <td>medium</td>\n",
       "      <td>medium</td>\n",
       "      <td>48.0</td>\n",
       "      <td>...</td>\n",
       "      <td>53.0</td>\n",
       "      <td>47.0</td>\n",
       "      <td>62.0</td>\n",
       "      <td>63.0</td>\n",
       "      <td>66.0</td>\n",
       "      <td>5.0</td>\n",
       "      <td>10.0</td>\n",
       "      <td>9.0</td>\n",
       "      <td>7.0</td>\n",
       "      <td>7.0</td>\n",
       "    </tr>\n",
       "    <tr>\n",
       "      <th>4</th>\n",
       "      <td>5</td>\n",
       "      <td>218353</td>\n",
       "      <td>505942</td>\n",
       "      <td>2007-02-22 00:00:00</td>\n",
       "      <td>61.0</td>\n",
       "      <td>65.0</td>\n",
       "      <td>right</td>\n",
       "      <td>medium</td>\n",
       "      <td>medium</td>\n",
       "      <td>48.0</td>\n",
       "      <td>...</td>\n",
       "      <td>53.0</td>\n",
       "      <td>47.0</td>\n",
       "      <td>62.0</td>\n",
       "      <td>63.0</td>\n",
       "      <td>66.0</td>\n",
       "      <td>5.0</td>\n",
       "      <td>10.0</td>\n",
       "      <td>9.0</td>\n",
       "      <td>7.0</td>\n",
       "      <td>7.0</td>\n",
       "    </tr>\n",
       "  </tbody>\n",
       "</table>\n",
       "<p>5 rows × 42 columns</p>\n",
       "</div>"
      ],
      "text/plain": [
       "   id  player_fifa_api_id  player_api_id                 date  overall_rating  \\\n",
       "0   1              218353         505942  2016-02-18 00:00:00            67.0   \n",
       "1   2              218353         505942  2015-11-19 00:00:00            67.0   \n",
       "2   3              218353         505942  2015-09-21 00:00:00            62.0   \n",
       "3   4              218353         505942  2015-03-20 00:00:00            61.0   \n",
       "4   5              218353         505942  2007-02-22 00:00:00            61.0   \n",
       "\n",
       "   potential preferred_foot attacking_work_rate defensive_work_rate  crossing  \\\n",
       "0       71.0          right              medium              medium      49.0   \n",
       "1       71.0          right              medium              medium      49.0   \n",
       "2       66.0          right              medium              medium      49.0   \n",
       "3       65.0          right              medium              medium      48.0   \n",
       "4       65.0          right              medium              medium      48.0   \n",
       "\n",
       "   ...  vision  penalties  marking  standing_tackle  sliding_tackle  \\\n",
       "0  ...    54.0       48.0     65.0             69.0            69.0   \n",
       "1  ...    54.0       48.0     65.0             69.0            69.0   \n",
       "2  ...    54.0       48.0     65.0             66.0            69.0   \n",
       "3  ...    53.0       47.0     62.0             63.0            66.0   \n",
       "4  ...    53.0       47.0     62.0             63.0            66.0   \n",
       "\n",
       "   gk_diving  gk_handling  gk_kicking  gk_positioning  gk_reflexes  \n",
       "0        6.0         11.0        10.0             8.0          8.0  \n",
       "1        6.0         11.0        10.0             8.0          8.0  \n",
       "2        6.0         11.0        10.0             8.0          8.0  \n",
       "3        5.0         10.0         9.0             7.0          7.0  \n",
       "4        5.0         10.0         9.0             7.0          7.0  \n",
       "\n",
       "[5 rows x 42 columns]"
      ]
     },
     "execution_count": 5,
     "metadata": {},
     "output_type": "execute_result"
    }
   ],
   "source": [
    "players_attr = pd.read_sql(\"\"\"\n",
    "                    SElECT *\n",
    "                    FROM player_attributes\n",
    "                    \n",
    "                    \"\"\", db)\n",
    "players_attr.head()"
   ]
  },
  {
   "cell_type": "code",
   "execution_count": 6,
   "metadata": {},
   "outputs": [
    {
     "data": {
      "text/plain": [
       "Index(['id', 'country_id', 'league_id', 'season', 'stage', 'date',\n",
       "       'match_api_id', 'home_team_api_id', 'away_team_api_id',\n",
       "       'home_team_goal',\n",
       "       ...\n",
       "       'SJA', 'VCH', 'VCD', 'VCA', 'GBH', 'GBD', 'GBA', 'BSH', 'BSD', 'BSA'],\n",
       "      dtype='object', length=115)"
      ]
     },
     "execution_count": 6,
     "metadata": {},
     "output_type": "execute_result"
    }
   ],
   "source": [
    "match_df = pd.read_sql(\"\"\"\n",
    "                    SElECT *\n",
    "                    FROM match\n",
    "                    \n",
    "                    \"\"\", db)\n",
    "match_df.columns"
   ]
  },
  {
   "cell_type": "code",
   "execution_count": 7,
   "metadata": {},
   "outputs": [
    {
     "data": {
      "text/html": [
       "<div>\n",
       "<style scoped>\n",
       "    .dataframe tbody tr th:only-of-type {\n",
       "        vertical-align: middle;\n",
       "    }\n",
       "\n",
       "    .dataframe tbody tr th {\n",
       "        vertical-align: top;\n",
       "    }\n",
       "\n",
       "    .dataframe thead th {\n",
       "        text-align: right;\n",
       "    }\n",
       "</style>\n",
       "<table border=\"1\" class=\"dataframe\">\n",
       "  <thead>\n",
       "    <tr style=\"text-align: right;\">\n",
       "      <th></th>\n",
       "      <th>id</th>\n",
       "      <th>team_fifa_api_id</th>\n",
       "      <th>team_api_id</th>\n",
       "      <th>buildUpPlaySpeed</th>\n",
       "      <th>buildUpPlayDribbling</th>\n",
       "      <th>buildUpPlayPassing</th>\n",
       "      <th>chanceCreationPassing</th>\n",
       "      <th>chanceCreationCrossing</th>\n",
       "      <th>chanceCreationShooting</th>\n",
       "      <th>defencePressure</th>\n",
       "      <th>defenceAggression</th>\n",
       "      <th>defenceTeamWidth</th>\n",
       "    </tr>\n",
       "  </thead>\n",
       "  <tbody>\n",
       "    <tr>\n",
       "      <th>count</th>\n",
       "      <td>1458.000000</td>\n",
       "      <td>1458.000000</td>\n",
       "      <td>1458.000000</td>\n",
       "      <td>1458.000000</td>\n",
       "      <td>489.000000</td>\n",
       "      <td>1458.000000</td>\n",
       "      <td>1458.000000</td>\n",
       "      <td>1458.000000</td>\n",
       "      <td>1458.000000</td>\n",
       "      <td>1458.000000</td>\n",
       "      <td>1458.000000</td>\n",
       "      <td>1458.000000</td>\n",
       "    </tr>\n",
       "    <tr>\n",
       "      <th>mean</th>\n",
       "      <td>729.500000</td>\n",
       "      <td>17706.982167</td>\n",
       "      <td>9995.727023</td>\n",
       "      <td>52.462277</td>\n",
       "      <td>48.607362</td>\n",
       "      <td>48.490398</td>\n",
       "      <td>52.165295</td>\n",
       "      <td>53.731824</td>\n",
       "      <td>53.969136</td>\n",
       "      <td>46.017147</td>\n",
       "      <td>49.251029</td>\n",
       "      <td>52.185871</td>\n",
       "    </tr>\n",
       "    <tr>\n",
       "      <th>std</th>\n",
       "      <td>421.032659</td>\n",
       "      <td>39179.857739</td>\n",
       "      <td>13264.869900</td>\n",
       "      <td>11.545869</td>\n",
       "      <td>9.678290</td>\n",
       "      <td>10.896101</td>\n",
       "      <td>10.360793</td>\n",
       "      <td>11.086796</td>\n",
       "      <td>10.327566</td>\n",
       "      <td>10.227225</td>\n",
       "      <td>9.738028</td>\n",
       "      <td>9.574712</td>\n",
       "    </tr>\n",
       "    <tr>\n",
       "      <th>min</th>\n",
       "      <td>1.000000</td>\n",
       "      <td>1.000000</td>\n",
       "      <td>1601.000000</td>\n",
       "      <td>20.000000</td>\n",
       "      <td>24.000000</td>\n",
       "      <td>20.000000</td>\n",
       "      <td>21.000000</td>\n",
       "      <td>20.000000</td>\n",
       "      <td>22.000000</td>\n",
       "      <td>23.000000</td>\n",
       "      <td>24.000000</td>\n",
       "      <td>29.000000</td>\n",
       "    </tr>\n",
       "    <tr>\n",
       "      <th>25%</th>\n",
       "      <td>365.250000</td>\n",
       "      <td>110.000000</td>\n",
       "      <td>8457.750000</td>\n",
       "      <td>45.000000</td>\n",
       "      <td>42.000000</td>\n",
       "      <td>40.000000</td>\n",
       "      <td>46.000000</td>\n",
       "      <td>47.000000</td>\n",
       "      <td>48.000000</td>\n",
       "      <td>39.000000</td>\n",
       "      <td>44.000000</td>\n",
       "      <td>47.000000</td>\n",
       "    </tr>\n",
       "    <tr>\n",
       "      <th>50%</th>\n",
       "      <td>729.500000</td>\n",
       "      <td>485.000000</td>\n",
       "      <td>8674.000000</td>\n",
       "      <td>52.000000</td>\n",
       "      <td>49.000000</td>\n",
       "      <td>50.000000</td>\n",
       "      <td>52.000000</td>\n",
       "      <td>53.000000</td>\n",
       "      <td>53.000000</td>\n",
       "      <td>45.000000</td>\n",
       "      <td>48.000000</td>\n",
       "      <td>52.000000</td>\n",
       "    </tr>\n",
       "    <tr>\n",
       "      <th>75%</th>\n",
       "      <td>1093.750000</td>\n",
       "      <td>1900.000000</td>\n",
       "      <td>9904.000000</td>\n",
       "      <td>62.000000</td>\n",
       "      <td>55.000000</td>\n",
       "      <td>55.000000</td>\n",
       "      <td>59.000000</td>\n",
       "      <td>62.000000</td>\n",
       "      <td>61.000000</td>\n",
       "      <td>51.000000</td>\n",
       "      <td>55.000000</td>\n",
       "      <td>58.000000</td>\n",
       "    </tr>\n",
       "    <tr>\n",
       "      <th>max</th>\n",
       "      <td>1458.000000</td>\n",
       "      <td>112513.000000</td>\n",
       "      <td>274581.000000</td>\n",
       "      <td>80.000000</td>\n",
       "      <td>77.000000</td>\n",
       "      <td>80.000000</td>\n",
       "      <td>80.000000</td>\n",
       "      <td>80.000000</td>\n",
       "      <td>80.000000</td>\n",
       "      <td>72.000000</td>\n",
       "      <td>72.000000</td>\n",
       "      <td>73.000000</td>\n",
       "    </tr>\n",
       "  </tbody>\n",
       "</table>\n",
       "</div>"
      ],
      "text/plain": [
       "                id  team_fifa_api_id    team_api_id  buildUpPlaySpeed  \\\n",
       "count  1458.000000       1458.000000    1458.000000       1458.000000   \n",
       "mean    729.500000      17706.982167    9995.727023         52.462277   \n",
       "std     421.032659      39179.857739   13264.869900         11.545869   \n",
       "min       1.000000          1.000000    1601.000000         20.000000   \n",
       "25%     365.250000        110.000000    8457.750000         45.000000   \n",
       "50%     729.500000        485.000000    8674.000000         52.000000   \n",
       "75%    1093.750000       1900.000000    9904.000000         62.000000   \n",
       "max    1458.000000     112513.000000  274581.000000         80.000000   \n",
       "\n",
       "       buildUpPlayDribbling  buildUpPlayPassing  chanceCreationPassing  \\\n",
       "count            489.000000         1458.000000            1458.000000   \n",
       "mean              48.607362           48.490398              52.165295   \n",
       "std                9.678290           10.896101              10.360793   \n",
       "min               24.000000           20.000000              21.000000   \n",
       "25%               42.000000           40.000000              46.000000   \n",
       "50%               49.000000           50.000000              52.000000   \n",
       "75%               55.000000           55.000000              59.000000   \n",
       "max               77.000000           80.000000              80.000000   \n",
       "\n",
       "       chanceCreationCrossing  chanceCreationShooting  defencePressure  \\\n",
       "count             1458.000000             1458.000000      1458.000000   \n",
       "mean                53.731824               53.969136        46.017147   \n",
       "std                 11.086796               10.327566        10.227225   \n",
       "min                 20.000000               22.000000        23.000000   \n",
       "25%                 47.000000               48.000000        39.000000   \n",
       "50%                 53.000000               53.000000        45.000000   \n",
       "75%                 62.000000               61.000000        51.000000   \n",
       "max                 80.000000               80.000000        72.000000   \n",
       "\n",
       "       defenceAggression  defenceTeamWidth  \n",
       "count        1458.000000       1458.000000  \n",
       "mean           49.251029         52.185871  \n",
       "std             9.738028          9.574712  \n",
       "min            24.000000         29.000000  \n",
       "25%            44.000000         47.000000  \n",
       "50%            48.000000         52.000000  \n",
       "75%            55.000000         58.000000  \n",
       "max            72.000000         73.000000  "
      ]
     },
     "execution_count": 7,
     "metadata": {},
     "output_type": "execute_result"
    }
   ],
   "source": [
    "team_attr = pd.read_sql(\"\"\"\n",
    "                    SElECT *\n",
    "                    FROM team_attributes\n",
    "                    \n",
    "                    \"\"\", db)\n",
    "team_attr.describe()"
   ]
  },
  {
   "cell_type": "markdown",
   "metadata": {},
   "source": [
    "## Data Cleaning\n",
    "\n",
    ">This section involves selecting dataframes that will be used to answer the posed question and cleaning its data "
   ]
  },
  {
   "cell_type": "markdown",
   "metadata": {},
   "source": [
    "Creating a dataframe from 3 different tables. the league,match,team tables are used to get the matches,their leagues and the names of both teams that played"
   ]
  },
  {
   "cell_type": "code",
   "execution_count": 8,
   "metadata": {},
   "outputs": [
    {
     "name": "stdout",
     "output_type": "stream",
     "text": [
      "<class 'pandas.core.frame.DataFrame'>\n",
      "RangeIndex: 25979 entries, 0 to 25978\n",
      "Data columns (total 8 columns):\n",
      " #   Column          Non-Null Count  Dtype \n",
      "---  ------          --------------  ----- \n",
      " 0   id              25979 non-null  int64 \n",
      " 1   league_name     25979 non-null  object\n",
      " 2   season          25979 non-null  object\n",
      " 3   date            25979 non-null  object\n",
      " 4   home_team_goal  25979 non-null  int64 \n",
      " 5   away_team_goal  25979 non-null  int64 \n",
      " 6   home_team       25979 non-null  object\n",
      " 7   away_team       25979 non-null  object\n",
      "dtypes: int64(3), object(5)\n",
      "memory usage: 1.6+ MB\n"
     ]
    }
   ],
   "source": [
    "df_1 = pd.read_sql(\"\"\"SELECT l.id, l.name as league_name , m.season , m.date , m.home_team_goal,m.away_team_goal,t.team_long_name as home_team, t2.team_long_name as away_team\n",
    "                    FROM League as l\n",
    "                    INNER JOIN Match as m\n",
    "                        ON l.id == m.league_id\n",
    "                    INNER JOIN Team as t \n",
    "                        ON t.team_api_id == m.home_team_api_id\n",
    "                    INNER JOIN Team as t2\n",
    "                        ON t2.team_api_id == m.away_team_api_id\n",
    "                        \"\"\", db)\n",
    "\n",
    "df_1.info()"
   ]
  },
  {
   "cell_type": "code",
   "execution_count": 9,
   "metadata": {},
   "outputs": [
    {
     "data": {
      "text/plain": [
       "0"
      ]
     },
     "execution_count": 9,
     "metadata": {},
     "output_type": "execute_result"
    }
   ],
   "source": [
    "sum(df_1.duplicated())\n"
   ]
  },
  {
   "cell_type": "markdown",
   "metadata": {},
   "source": [
    "In df_1 date column need to be changed to datetime\n",
    "<br>There are no null values and no duplicates"
   ]
  },
  {
   "cell_type": "code",
   "execution_count": 10,
   "metadata": {},
   "outputs": [
    {
     "name": "stdout",
     "output_type": "stream",
     "text": [
      "<class 'pandas.core.frame.DataFrame'>\n",
      "RangeIndex: 25979 entries, 0 to 25978\n",
      "Data columns (total 8 columns):\n",
      " #   Column          Non-Null Count  Dtype         \n",
      "---  ------          --------------  -----         \n",
      " 0   id              25979 non-null  int64         \n",
      " 1   league_name     25979 non-null  object        \n",
      " 2   season          25979 non-null  object        \n",
      " 3   date            25979 non-null  datetime64[ns]\n",
      " 4   home_team_goal  25979 non-null  int64         \n",
      " 5   away_team_goal  25979 non-null  int64         \n",
      " 6   home_team       25979 non-null  object        \n",
      " 7   away_team       25979 non-null  object        \n",
      "dtypes: datetime64[ns](1), int64(3), object(4)\n",
      "memory usage: 1.6+ MB\n"
     ]
    }
   ],
   "source": [
    "# converting date type to datetime\n",
    "df_1['date'] = pd.to_datetime(df_1['date'])\n",
    "\n",
    "#checking to see if the conversion worked \n",
    "df_1.info()"
   ]
  },
  {
   "cell_type": "markdown",
   "metadata": {},
   "source": [
    "Merging the player and player attributes table and choosing only the columns needed for the analysis.\n",
    "<br>The overall rating and potential were chosen because they are the 2 most important ratings and the overall rating is the mean of all the other ratings."
   ]
  },
  {
   "cell_type": "code",
   "execution_count": 11,
   "metadata": {},
   "outputs": [
    {
     "name": "stdout",
     "output_type": "stream",
     "text": [
      "<class 'pandas.core.frame.DataFrame'>\n",
      "RangeIndex: 183978 entries, 0 to 183977\n",
      "Data columns (total 6 columns):\n",
      " #   Column          Non-Null Count   Dtype  \n",
      "---  ------          --------------   -----  \n",
      " 0   player_name     183978 non-null  object \n",
      " 1   birthday        183978 non-null  object \n",
      " 2   player_api_id   183978 non-null  int64  \n",
      " 3   date            183978 non-null  object \n",
      " 4   overall_rating  183142 non-null  float64\n",
      " 5   potential       183142 non-null  float64\n",
      "dtypes: float64(2), int64(1), object(3)\n",
      "memory usage: 8.4+ MB\n"
     ]
    }
   ],
   "source": [
    "df_2 = pd.read_sql(\"\"\"\n",
    "                    SELECT  p.player_name, p.birthday, pa.player_api_id, pa.date, pa.overall_rating, pa.potential\n",
    "                    FROM Player as p \n",
    "                    INNER JOIN Player_attributes as pa\n",
    "                        ON P.Player_api_id == pa.player_api_id \n",
    "                    \"\"\",db)\n",
    "df_2.info()"
   ]
  },
  {
   "cell_type": "code",
   "execution_count": 12,
   "metadata": {},
   "outputs": [
    {
     "data": {
      "text/plain": [
       "1"
      ]
     },
     "execution_count": 12,
     "metadata": {},
     "output_type": "execute_result"
    }
   ],
   "source": [
    "sum(df_2.duplicated())"
   ]
  },
  {
   "cell_type": "markdown",
   "metadata": {},
   "source": [
    "In df_2 the date and birthday columns need to be changed to datetime \n",
    "<br>it contains null values \n",
    "\n"
   ]
  },
  {
   "cell_type": "code",
   "execution_count": 13,
   "metadata": {},
   "outputs": [],
   "source": [
    "#dropping the duplicates\n",
    "df_2.drop_duplicates(inplace =True)\n",
    "# converting date type to datetime \n",
    "df_2['date'] = pd.to_datetime(df_2['date'])                  \n",
    "# converting birthday type to datetime\n",
    "df_2['birthday'] = pd.to_datetime(df_2['birthday'])            \n",
    "\n",
    "# removing null values \n",
    "df_2.dropna(inplace=True)"
   ]
  },
  {
   "cell_type": "markdown",
   "metadata": {},
   "source": [
    "Checking if the cleaning was successful"
   ]
  },
  {
   "cell_type": "code",
   "execution_count": 14,
   "metadata": {},
   "outputs": [
    {
     "name": "stdout",
     "output_type": "stream",
     "text": [
      "<class 'pandas.core.frame.DataFrame'>\n",
      "Int64Index: 183142 entries, 0 to 183977\n",
      "Data columns (total 6 columns):\n",
      " #   Column          Non-Null Count   Dtype         \n",
      "---  ------          --------------   -----         \n",
      " 0   player_name     183142 non-null  object        \n",
      " 1   birthday        183142 non-null  datetime64[ns]\n",
      " 2   player_api_id   183142 non-null  int64         \n",
      " 3   date            183142 non-null  datetime64[ns]\n",
      " 4   overall_rating  183142 non-null  float64       \n",
      " 5   potential       183142 non-null  float64       \n",
      "dtypes: datetime64[ns](2), float64(2), int64(1), object(1)\n",
      "memory usage: 9.8+ MB\n"
     ]
    }
   ],
   "source": [
    "df_2.info()"
   ]
  },
  {
   "cell_type": "markdown",
   "metadata": {},
   "source": [
    "Merging the team and team attributes tables to get a dataframe with some team attributes and the name of the team.\n",
    "A **build up play**,**chance creation** and **defence** column was selected from the team attributes table."
   ]
  },
  {
   "cell_type": "code",
   "execution_count": 15,
   "metadata": {
    "scrolled": true
   },
   "outputs": [
    {
     "name": "stdout",
     "output_type": "stream",
     "text": [
      "<class 'pandas.core.frame.DataFrame'>\n",
      "RangeIndex: 1458 entries, 0 to 1457\n",
      "Data columns (total 6 columns):\n",
      " #   Column                       Non-Null Count  Dtype \n",
      "---  ------                       --------------  ----- \n",
      " 0   team_long_name               1458 non-null   object\n",
      " 1   team_api_id                  1458 non-null   int64 \n",
      " 2   date                         1458 non-null   object\n",
      " 3   buildUpPlaySpeed             1458 non-null   int64 \n",
      " 4   chanceCreationShootingClass  1458 non-null   object\n",
      " 5   defencePressure              1458 non-null   int64 \n",
      "dtypes: int64(3), object(3)\n",
      "memory usage: 68.5+ KB\n"
     ]
    }
   ],
   "source": [
    "df_3 = pd.read_sql(\"\"\"\n",
    "                   SELECT t.team_long_name,ta.team_api_id,ta.date, ta.buildUpPlaySpeed, ta.chanceCreationShootingClass, ta.defencePressure\n",
    "                   FROM Team as t\n",
    "                   INNER JOIN Team_attributes as ta\n",
    "                        ON t.team_api_id = ta.team_api_id\n",
    "                   \"\"\",db)\n",
    "df_3.info()"
   ]
  },
  {
   "cell_type": "code",
   "execution_count": 16,
   "metadata": {},
   "outputs": [
    {
     "data": {
      "text/plain": [
       "1"
      ]
     },
     "execution_count": 16,
     "metadata": {},
     "output_type": "execute_result"
    }
   ],
   "source": [
    "sum(df_3.duplicated())"
   ]
  },
  {
   "cell_type": "markdown",
   "metadata": {},
   "source": [
    "In df_3 the date column need to be changed to datetime \n",
    "<br>It contains duplicate values\n",
    "<br>All columns need to be changed to lowercase"
   ]
  },
  {
   "cell_type": "code",
   "execution_count": 17,
   "metadata": {},
   "outputs": [],
   "source": [
    "# converting date type to datetime\n",
    "df_3['date'] = pd.to_datetime(df_2['date'])\n",
    "\n",
    "# removing duplicate values\n",
    "df_3.drop_duplicates(inplace=True)\n",
    "\n",
    "# renaming columns\n",
    "df_3.rename(columns= lambda x: str.lower(x),inplace=True)"
   ]
  },
  {
   "cell_type": "markdown",
   "metadata": {},
   "source": [
    "Checking if the changes made reflect in the data "
   ]
  },
  {
   "cell_type": "code",
   "execution_count": 18,
   "metadata": {},
   "outputs": [
    {
     "name": "stdout",
     "output_type": "stream",
     "text": [
      "<class 'pandas.core.frame.DataFrame'>\n",
      "Int64Index: 1458 entries, 0 to 1457\n",
      "Data columns (total 6 columns):\n",
      " #   Column                       Non-Null Count  Dtype         \n",
      "---  ------                       --------------  -----         \n",
      " 0   team_long_name               1458 non-null   object        \n",
      " 1   team_api_id                  1458 non-null   int64         \n",
      " 2   date                         1456 non-null   datetime64[ns]\n",
      " 3   buildupplayspeed             1458 non-null   int64         \n",
      " 4   chancecreationshootingclass  1458 non-null   object        \n",
      " 5   defencepressure              1458 non-null   int64         \n",
      "dtypes: datetime64[ns](1), int64(3), object(2)\n",
      "memory usage: 79.7+ KB\n",
      "None\n"
     ]
    },
    {
     "data": {
      "text/plain": [
       "0"
      ]
     },
     "execution_count": 18,
     "metadata": {},
     "output_type": "execute_result"
    }
   ],
   "source": [
    "print(df_3.info())\n",
    "sum(df_3.duplicated())"
   ]
  },
  {
   "cell_type": "markdown",
   "metadata": {},
   "source": [
    "After converting to date some null values appear in the date column "
   ]
  },
  {
   "cell_type": "code",
   "execution_count": 19,
   "metadata": {},
   "outputs": [
    {
     "name": "stdout",
     "output_type": "stream",
     "text": [
      "<class 'pandas.core.frame.DataFrame'>\n",
      "Int64Index: 1456 entries, 0 to 1457\n",
      "Data columns (total 6 columns):\n",
      " #   Column                       Non-Null Count  Dtype         \n",
      "---  ------                       --------------  -----         \n",
      " 0   team_long_name               1456 non-null   object        \n",
      " 1   team_api_id                  1456 non-null   int64         \n",
      " 2   date                         1456 non-null   datetime64[ns]\n",
      " 3   buildupplayspeed             1456 non-null   int64         \n",
      " 4   chancecreationshootingclass  1456 non-null   object        \n",
      " 5   defencepressure              1456 non-null   int64         \n",
      "dtypes: datetime64[ns](1), int64(3), object(2)\n",
      "memory usage: 79.6+ KB\n"
     ]
    }
   ],
   "source": [
    "# Dropping null value\n",
    "df_3.dropna(inplace = True)\n",
    "\n",
    "df_3.info()"
   ]
  },
  {
   "cell_type": "markdown",
   "metadata": {},
   "source": [
    "<a id='eda'></a>\n",
    "## Exploratory Data Analysis\n",
    "\n",
    "\n",
    "## Research Question 1:  League with the highest number of average goals scored per game "
   ]
  },
  {
   "cell_type": "markdown",
   "metadata": {},
   "source": [
    "To answer this research question, i will use the following dataframes:\n",
    "><li>df_1\n"
   ]
  },
  {
   "cell_type": "code",
   "execution_count": 20,
   "metadata": {
    "scrolled": true
   },
   "outputs": [
    {
     "data": {
      "text/html": [
       "<div>\n",
       "<style scoped>\n",
       "    .dataframe tbody tr th:only-of-type {\n",
       "        vertical-align: middle;\n",
       "    }\n",
       "\n",
       "    .dataframe tbody tr th {\n",
       "        vertical-align: top;\n",
       "    }\n",
       "\n",
       "    .dataframe thead th {\n",
       "        text-align: right;\n",
       "    }\n",
       "</style>\n",
       "<table border=\"1\" class=\"dataframe\">\n",
       "  <thead>\n",
       "    <tr style=\"text-align: right;\">\n",
       "      <th></th>\n",
       "      <th>id</th>\n",
       "      <th>league_name</th>\n",
       "      <th>season</th>\n",
       "      <th>date</th>\n",
       "      <th>home_team_goal</th>\n",
       "      <th>away_team_goal</th>\n",
       "      <th>home_team</th>\n",
       "      <th>away_team</th>\n",
       "    </tr>\n",
       "  </thead>\n",
       "  <tbody>\n",
       "    <tr>\n",
       "      <th>0</th>\n",
       "      <td>1</td>\n",
       "      <td>Belgium Jupiler League</td>\n",
       "      <td>2008/2009</td>\n",
       "      <td>2008-08-17</td>\n",
       "      <td>1</td>\n",
       "      <td>1</td>\n",
       "      <td>KRC Genk</td>\n",
       "      <td>Beerschot AC</td>\n",
       "    </tr>\n",
       "    <tr>\n",
       "      <th>1</th>\n",
       "      <td>1</td>\n",
       "      <td>Belgium Jupiler League</td>\n",
       "      <td>2008/2009</td>\n",
       "      <td>2008-08-16</td>\n",
       "      <td>0</td>\n",
       "      <td>0</td>\n",
       "      <td>SV Zulte-Waregem</td>\n",
       "      <td>Sporting Lokeren</td>\n",
       "    </tr>\n",
       "    <tr>\n",
       "      <th>2</th>\n",
       "      <td>1</td>\n",
       "      <td>Belgium Jupiler League</td>\n",
       "      <td>2008/2009</td>\n",
       "      <td>2008-08-16</td>\n",
       "      <td>0</td>\n",
       "      <td>3</td>\n",
       "      <td>KSV Cercle Brugge</td>\n",
       "      <td>RSC Anderlecht</td>\n",
       "    </tr>\n",
       "    <tr>\n",
       "      <th>3</th>\n",
       "      <td>1</td>\n",
       "      <td>Belgium Jupiler League</td>\n",
       "      <td>2008/2009</td>\n",
       "      <td>2008-08-17</td>\n",
       "      <td>5</td>\n",
       "      <td>0</td>\n",
       "      <td>KAA Gent</td>\n",
       "      <td>RAEC Mons</td>\n",
       "    </tr>\n",
       "    <tr>\n",
       "      <th>4</th>\n",
       "      <td>1</td>\n",
       "      <td>Belgium Jupiler League</td>\n",
       "      <td>2008/2009</td>\n",
       "      <td>2008-08-16</td>\n",
       "      <td>1</td>\n",
       "      <td>3</td>\n",
       "      <td>FCV Dender EH</td>\n",
       "      <td>Standard de Liège</td>\n",
       "    </tr>\n",
       "  </tbody>\n",
       "</table>\n",
       "</div>"
      ],
      "text/plain": [
       "   id             league_name     season       date  home_team_goal  \\\n",
       "0   1  Belgium Jupiler League  2008/2009 2008-08-17               1   \n",
       "1   1  Belgium Jupiler League  2008/2009 2008-08-16               0   \n",
       "2   1  Belgium Jupiler League  2008/2009 2008-08-16               0   \n",
       "3   1  Belgium Jupiler League  2008/2009 2008-08-17               5   \n",
       "4   1  Belgium Jupiler League  2008/2009 2008-08-16               1   \n",
       "\n",
       "   away_team_goal          home_team          away_team  \n",
       "0               1           KRC Genk       Beerschot AC  \n",
       "1               0   SV Zulte-Waregem   Sporting Lokeren  \n",
       "2               3  KSV Cercle Brugge     RSC Anderlecht  \n",
       "3               0           KAA Gent          RAEC Mons  \n",
       "4               3      FCV Dender EH  Standard de Liège  "
      ]
     },
     "execution_count": 20,
     "metadata": {},
     "output_type": "execute_result"
    }
   ],
   "source": [
    "df_1.head()"
   ]
  },
  {
   "cell_type": "markdown",
   "metadata": {},
   "source": [
    "Calculating the sum of the goals per game in a column called **total_goals**"
   ]
  },
  {
   "cell_type": "code",
   "execution_count": 21,
   "metadata": {},
   "outputs": [
    {
     "data": {
      "text/html": [
       "<div>\n",
       "<style scoped>\n",
       "    .dataframe tbody tr th:only-of-type {\n",
       "        vertical-align: middle;\n",
       "    }\n",
       "\n",
       "    .dataframe tbody tr th {\n",
       "        vertical-align: top;\n",
       "    }\n",
       "\n",
       "    .dataframe thead th {\n",
       "        text-align: right;\n",
       "    }\n",
       "</style>\n",
       "<table border=\"1\" class=\"dataframe\">\n",
       "  <thead>\n",
       "    <tr style=\"text-align: right;\">\n",
       "      <th></th>\n",
       "      <th>id</th>\n",
       "      <th>league_name</th>\n",
       "      <th>season</th>\n",
       "      <th>date</th>\n",
       "      <th>home_team_goal</th>\n",
       "      <th>away_team_goal</th>\n",
       "      <th>home_team</th>\n",
       "      <th>away_team</th>\n",
       "      <th>total_goals</th>\n",
       "    </tr>\n",
       "  </thead>\n",
       "  <tbody>\n",
       "    <tr>\n",
       "      <th>0</th>\n",
       "      <td>1</td>\n",
       "      <td>Belgium Jupiler League</td>\n",
       "      <td>2008/2009</td>\n",
       "      <td>2008-08-17</td>\n",
       "      <td>1</td>\n",
       "      <td>1</td>\n",
       "      <td>KRC Genk</td>\n",
       "      <td>Beerschot AC</td>\n",
       "      <td>2</td>\n",
       "    </tr>\n",
       "    <tr>\n",
       "      <th>1</th>\n",
       "      <td>1</td>\n",
       "      <td>Belgium Jupiler League</td>\n",
       "      <td>2008/2009</td>\n",
       "      <td>2008-08-16</td>\n",
       "      <td>0</td>\n",
       "      <td>0</td>\n",
       "      <td>SV Zulte-Waregem</td>\n",
       "      <td>Sporting Lokeren</td>\n",
       "      <td>0</td>\n",
       "    </tr>\n",
       "    <tr>\n",
       "      <th>2</th>\n",
       "      <td>1</td>\n",
       "      <td>Belgium Jupiler League</td>\n",
       "      <td>2008/2009</td>\n",
       "      <td>2008-08-16</td>\n",
       "      <td>0</td>\n",
       "      <td>3</td>\n",
       "      <td>KSV Cercle Brugge</td>\n",
       "      <td>RSC Anderlecht</td>\n",
       "      <td>3</td>\n",
       "    </tr>\n",
       "    <tr>\n",
       "      <th>3</th>\n",
       "      <td>1</td>\n",
       "      <td>Belgium Jupiler League</td>\n",
       "      <td>2008/2009</td>\n",
       "      <td>2008-08-17</td>\n",
       "      <td>5</td>\n",
       "      <td>0</td>\n",
       "      <td>KAA Gent</td>\n",
       "      <td>RAEC Mons</td>\n",
       "      <td>5</td>\n",
       "    </tr>\n",
       "    <tr>\n",
       "      <th>4</th>\n",
       "      <td>1</td>\n",
       "      <td>Belgium Jupiler League</td>\n",
       "      <td>2008/2009</td>\n",
       "      <td>2008-08-16</td>\n",
       "      <td>1</td>\n",
       "      <td>3</td>\n",
       "      <td>FCV Dender EH</td>\n",
       "      <td>Standard de Liège</td>\n",
       "      <td>4</td>\n",
       "    </tr>\n",
       "  </tbody>\n",
       "</table>\n",
       "</div>"
      ],
      "text/plain": [
       "   id             league_name     season       date  home_team_goal  \\\n",
       "0   1  Belgium Jupiler League  2008/2009 2008-08-17               1   \n",
       "1   1  Belgium Jupiler League  2008/2009 2008-08-16               0   \n",
       "2   1  Belgium Jupiler League  2008/2009 2008-08-16               0   \n",
       "3   1  Belgium Jupiler League  2008/2009 2008-08-17               5   \n",
       "4   1  Belgium Jupiler League  2008/2009 2008-08-16               1   \n",
       "\n",
       "   away_team_goal          home_team          away_team  total_goals  \n",
       "0               1           KRC Genk       Beerschot AC            2  \n",
       "1               0   SV Zulte-Waregem   Sporting Lokeren            0  \n",
       "2               3  KSV Cercle Brugge     RSC Anderlecht            3  \n",
       "3               0           KAA Gent          RAEC Mons            5  \n",
       "4               3      FCV Dender EH  Standard de Liège            4  "
      ]
     },
     "execution_count": 21,
     "metadata": {},
     "output_type": "execute_result"
    }
   ],
   "source": [
    "df_1['total_goals'] = df_1['home_team_goal'] + df_1['away_team_goal']\n",
    "\n",
    "df_1.head()"
   ]
  },
  {
   "cell_type": "markdown",
   "metadata": {},
   "source": [
    "Grouping the data by **league_name** and sorting by sum of __total_goals__ and then divide by count to know the highest scoring league in proportion to games played "
   ]
  },
  {
   "cell_type": "code",
   "execution_count": 22,
   "metadata": {},
   "outputs": [
    {
     "data": {
      "text/plain": [
       "league_name\n",
       "Belgium Jupiler League      2.801505\n",
       "England Premier League      2.710526\n",
       "France Ligue 1              2.443092\n",
       "Germany 1. Bundesliga       2.901552\n",
       "Italy Serie A               2.616838\n",
       "Netherlands Eredivisie      3.080882\n",
       "Poland Ekstraklasa          2.425000\n",
       "Portugal Liga ZON Sagres    2.534600\n",
       "Scotland Premier League     2.633772\n",
       "Spain LIGA BBVA             2.767105\n",
       "Switzerland Super League    2.929677\n",
       "dtype: float64"
      ]
     },
     "execution_count": 22,
     "metadata": {},
     "output_type": "execute_result"
    }
   ],
   "source": [
    "avg_goal_game = df_1.groupby('league_name')['total_goals'].sum() / df_1.groupby('league_name').count()['id']\n",
    "avg_goal_game"
   ]
  },
  {
   "cell_type": "markdown",
   "metadata": {},
   "source": [
    "<a id = 'q1'></a>\n",
    "Plotting a bar graph to show results"
   ]
  },
  {
   "cell_type": "code",
   "execution_count": 23,
   "metadata": {
    "scrolled": true
   },
   "outputs": [
    {
     "data": {
      "text/plain": [
       "Text(0.5, 1.0, 'League with average number of goals per game')"
      ]
     },
     "execution_count": 23,
     "metadata": {},
     "output_type": "execute_result"
    },
    {
     "data": {
      "image/png": "[encoded data removed]",
      "text/plain": [
       "<Figure size 720x576 with 1 Axes>"
      ]
     },
     "metadata": {
      "needs_background": "light"
     },
     "output_type": "display_data"
    }
   ],
   "source": [
    "avg_goal_game.plot.bar(figsize = (10,8))\n",
    "plt.ylabel('Average goal per game', fontsize = 18)\n",
    "plt.xlabel('League Name', fontsize = 18)\n",
    "plt.title('League with average number of goals per game', fontsize = 18)"
   ]
  },
  {
   "cell_type": "markdown",
   "metadata": {},
   "source": [
    "A bar chart was used because the comparison was between quantitative data and categorical data.\n",
    "<br>The bar chart shows that the least average goal per game in all the leagues is over 2 goals"
   ]
  },
  {
   "cell_type": "markdown",
   "metadata": {},
   "source": [
    "## Research Question 2: Do home teams win more games than away teams "
   ]
  },
  {
   "cell_type": "markdown",
   "metadata": {},
   "source": [
    "To answer this research question, i will use the following dataframes:\n",
    "><li>df_1\n"
   ]
  },
  {
   "cell_type": "code",
   "execution_count": 24,
   "metadata": {},
   "outputs": [
    {
     "name": "stdout",
     "output_type": "stream",
     "text": [
      "<class 'pandas.core.frame.DataFrame'>\n",
      "RangeIndex: 25979 entries, 0 to 25978\n",
      "Data columns (total 9 columns):\n",
      " #   Column          Non-Null Count  Dtype         \n",
      "---  ------          --------------  -----         \n",
      " 0   id              25979 non-null  int64         \n",
      " 1   league_name     25979 non-null  object        \n",
      " 2   season          25979 non-null  object        \n",
      " 3   date            25979 non-null  datetime64[ns]\n",
      " 4   home_team_goal  25979 non-null  int64         \n",
      " 5   away_team_goal  25979 non-null  int64         \n",
      " 6   home_team       25979 non-null  object        \n",
      " 7   away_team       25979 non-null  object        \n",
      " 8   total_goals     25979 non-null  int64         \n",
      "dtypes: datetime64[ns](1), int64(4), object(4)\n",
      "memory usage: 1.8+ MB\n"
     ]
    }
   ],
   "source": [
    "df_1.info()"
   ]
  },
  {
   "cell_type": "markdown",
   "metadata": {},
   "source": [
    "Defining a function and creating a column to show weather the game was won by the home team or the away team or if it was a draw\n",
    "><li>W1 for home win \n",
    "><li>W2 for away win \n",
    "><li>D for draw"
   ]
  },
  {
   "cell_type": "code",
   "execution_count": 25,
   "metadata": {},
   "outputs": [
    {
     "data": {
      "text/html": [
       "<div>\n",
       "<style scoped>\n",
       "    .dataframe tbody tr th:only-of-type {\n",
       "        vertical-align: middle;\n",
       "    }\n",
       "\n",
       "    .dataframe tbody tr th {\n",
       "        vertical-align: top;\n",
       "    }\n",
       "\n",
       "    .dataframe thead th {\n",
       "        text-align: right;\n",
       "    }\n",
       "</style>\n",
       "<table border=\"1\" class=\"dataframe\">\n",
       "  <thead>\n",
       "    <tr style=\"text-align: right;\">\n",
       "      <th></th>\n",
       "      <th>id</th>\n",
       "      <th>league_name</th>\n",
       "      <th>season</th>\n",
       "      <th>date</th>\n",
       "      <th>home_team_goal</th>\n",
       "      <th>away_team_goal</th>\n",
       "      <th>home_team</th>\n",
       "      <th>away_team</th>\n",
       "      <th>total_goals</th>\n",
       "      <th>outcome</th>\n",
       "    </tr>\n",
       "  </thead>\n",
       "  <tbody>\n",
       "    <tr>\n",
       "      <th>0</th>\n",
       "      <td>1</td>\n",
       "      <td>Belgium Jupiler League</td>\n",
       "      <td>2008/2009</td>\n",
       "      <td>2008-08-17</td>\n",
       "      <td>1</td>\n",
       "      <td>1</td>\n",
       "      <td>KRC Genk</td>\n",
       "      <td>Beerschot AC</td>\n",
       "      <td>2</td>\n",
       "      <td>D</td>\n",
       "    </tr>\n",
       "    <tr>\n",
       "      <th>1</th>\n",
       "      <td>1</td>\n",
       "      <td>Belgium Jupiler League</td>\n",
       "      <td>2008/2009</td>\n",
       "      <td>2008-08-16</td>\n",
       "      <td>0</td>\n",
       "      <td>0</td>\n",
       "      <td>SV Zulte-Waregem</td>\n",
       "      <td>Sporting Lokeren</td>\n",
       "      <td>0</td>\n",
       "      <td>D</td>\n",
       "    </tr>\n",
       "    <tr>\n",
       "      <th>2</th>\n",
       "      <td>1</td>\n",
       "      <td>Belgium Jupiler League</td>\n",
       "      <td>2008/2009</td>\n",
       "      <td>2008-08-16</td>\n",
       "      <td>0</td>\n",
       "      <td>3</td>\n",
       "      <td>KSV Cercle Brugge</td>\n",
       "      <td>RSC Anderlecht</td>\n",
       "      <td>3</td>\n",
       "      <td>W2</td>\n",
       "    </tr>\n",
       "    <tr>\n",
       "      <th>3</th>\n",
       "      <td>1</td>\n",
       "      <td>Belgium Jupiler League</td>\n",
       "      <td>2008/2009</td>\n",
       "      <td>2008-08-17</td>\n",
       "      <td>5</td>\n",
       "      <td>0</td>\n",
       "      <td>KAA Gent</td>\n",
       "      <td>RAEC Mons</td>\n",
       "      <td>5</td>\n",
       "      <td>W1</td>\n",
       "    </tr>\n",
       "    <tr>\n",
       "      <th>4</th>\n",
       "      <td>1</td>\n",
       "      <td>Belgium Jupiler League</td>\n",
       "      <td>2008/2009</td>\n",
       "      <td>2008-08-16</td>\n",
       "      <td>1</td>\n",
       "      <td>3</td>\n",
       "      <td>FCV Dender EH</td>\n",
       "      <td>Standard de Liège</td>\n",
       "      <td>4</td>\n",
       "      <td>W2</td>\n",
       "    </tr>\n",
       "  </tbody>\n",
       "</table>\n",
       "</div>"
      ],
      "text/plain": [
       "   id             league_name     season       date  home_team_goal  \\\n",
       "0   1  Belgium Jupiler League  2008/2009 2008-08-17               1   \n",
       "1   1  Belgium Jupiler League  2008/2009 2008-08-16               0   \n",
       "2   1  Belgium Jupiler League  2008/2009 2008-08-16               0   \n",
       "3   1  Belgium Jupiler League  2008/2009 2008-08-17               5   \n",
       "4   1  Belgium Jupiler League  2008/2009 2008-08-16               1   \n",
       "\n",
       "   away_team_goal          home_team          away_team  total_goals outcome  \n",
       "0               1           KRC Genk       Beerschot AC            2       D  \n",
       "1               0   SV Zulte-Waregem   Sporting Lokeren            0       D  \n",
       "2               3  KSV Cercle Brugge     RSC Anderlecht            3      W2  \n",
       "3               0           KAA Gent          RAEC Mons            5      W1  \n",
       "4               3      FCV Dender EH  Standard de Liège            4      W2  "
      ]
     },
     "execution_count": 25,
     "metadata": {},
     "output_type": "execute_result"
    }
   ],
   "source": [
    "def wd (x,y):\n",
    "    if x > y:\n",
    "        return 'W1'\n",
    "    elif x == y:\n",
    "        return 'D'\n",
    "    elif x < y :\n",
    "        return 'W2'\n",
    "\n",
    "df_1['outcome'] = list(map(wd,df_1['home_team_goal'],df_1['away_team_goal']))\n",
    "df_1.head()"
   ]
  },
  {
   "cell_type": "markdown",
   "metadata": {},
   "source": [
    "Grouping the data by the **outcome** column to know the number of games drawn or won by either team"
   ]
  },
  {
   "cell_type": "code",
   "execution_count": 26,
   "metadata": {},
   "outputs": [
    {
     "data": {
      "text/plain": [
       "outcome\n",
       "D      6596\n",
       "W1    11917\n",
       "W2     7466\n",
       "Name: id, dtype: int64"
      ]
     },
     "execution_count": 26,
     "metadata": {},
     "output_type": "execute_result"
    }
   ],
   "source": [
    "wins = df_1.groupby('outcome').count()['id']\n",
    "wins"
   ]
  },
  {
   "cell_type": "code",
   "execution_count": 27,
   "metadata": {},
   "outputs": [
    {
     "data": {
      "text/plain": [
       "4451"
      ]
     },
     "execution_count": 27,
     "metadata": {},
     "output_type": "execute_result"
    }
   ],
   "source": [
    "wins[1] - wins[2]"
   ]
  },
  {
   "cell_type": "markdown",
   "metadata": {},
   "source": [
    "The above result is the difference between home wins and away wins "
   ]
  },
  {
   "cell_type": "markdown",
   "metadata": {},
   "source": [
    "<a id = 'q2'></a>\n",
    "Plotting the result in a bar chart "
   ]
  },
  {
   "cell_type": "code",
   "execution_count": 28,
   "metadata": {
    "scrolled": true
   },
   "outputs": [
    {
     "data": {
      "text/plain": [
       "Text(0.5, 1.0, 'Number of games by Outcome')"
      ]
     },
     "execution_count": 28,
     "metadata": {},
     "output_type": "execute_result"
    },
    {
     "data": {
      "image/png": "[encoded data removed]",
      "text/plain": [
       "<Figure size 720x720 with 1 Axes>"
      ]
     },
     "metadata": {
      "needs_background": "light"
     },
     "output_type": "display_data"
    }
   ],
   "source": [
    "wins.plot.bar(figsize = (10,10),color = ['r','g','b'])\n",
    "plt.xticks([0,1,2],labels=['Draw','Home win','Away win'],rotation = 0,fontsize = 13)\n",
    "plt.xlabel('Game outcome',fontsize = 16)\n",
    "plt.ylabel('Number of games',fontsize = 16)\n",
    "plt.title('Number of games by Outcome',fontsize = 16)"
   ]
  },
  {
   "cell_type": "markdown",
   "metadata": {},
   "source": [
    "A bar chart was used because the comparison was between quantitative data and categorical data.\n",
    "<br> These variables were explored to know weather the home or away team had an advantage.\n",
    "<br> The bar chart shows that the draw and away win outcomes are similar and very different from the home win outcome."
   ]
  },
  {
   "cell_type": "markdown",
   "metadata": {},
   "source": [
    "## Research Question 3: The teams with the most wins in each Leagues in the 2014/2015 season"
   ]
  },
  {
   "cell_type": "markdown",
   "metadata": {},
   "source": [
    "To answer this question i will use the following dataframes\n",
    "><li>df_1"
   ]
  },
  {
   "cell_type": "code",
   "execution_count": 29,
   "metadata": {},
   "outputs": [
    {
     "data": {
      "text/html": [
       "<div>\n",
       "<style scoped>\n",
       "    .dataframe tbody tr th:only-of-type {\n",
       "        vertical-align: middle;\n",
       "    }\n",
       "\n",
       "    .dataframe tbody tr th {\n",
       "        vertical-align: top;\n",
       "    }\n",
       "\n",
       "    .dataframe thead th {\n",
       "        text-align: right;\n",
       "    }\n",
       "</style>\n",
       "<table border=\"1\" class=\"dataframe\">\n",
       "  <thead>\n",
       "    <tr style=\"text-align: right;\">\n",
       "      <th></th>\n",
       "      <th>id</th>\n",
       "      <th>league_name</th>\n",
       "      <th>season</th>\n",
       "      <th>date</th>\n",
       "      <th>home_team_goal</th>\n",
       "      <th>away_team_goal</th>\n",
       "      <th>home_team</th>\n",
       "      <th>away_team</th>\n",
       "      <th>total_goals</th>\n",
       "      <th>outcome</th>\n",
       "    </tr>\n",
       "  </thead>\n",
       "  <tbody>\n",
       "    <tr>\n",
       "      <th>0</th>\n",
       "      <td>1</td>\n",
       "      <td>Belgium Jupiler League</td>\n",
       "      <td>2008/2009</td>\n",
       "      <td>2008-08-17</td>\n",
       "      <td>1</td>\n",
       "      <td>1</td>\n",
       "      <td>KRC Genk</td>\n",
       "      <td>Beerschot AC</td>\n",
       "      <td>2</td>\n",
       "      <td>D</td>\n",
       "    </tr>\n",
       "    <tr>\n",
       "      <th>1</th>\n",
       "      <td>1</td>\n",
       "      <td>Belgium Jupiler League</td>\n",
       "      <td>2008/2009</td>\n",
       "      <td>2008-08-16</td>\n",
       "      <td>0</td>\n",
       "      <td>0</td>\n",
       "      <td>SV Zulte-Waregem</td>\n",
       "      <td>Sporting Lokeren</td>\n",
       "      <td>0</td>\n",
       "      <td>D</td>\n",
       "    </tr>\n",
       "    <tr>\n",
       "      <th>2</th>\n",
       "      <td>1</td>\n",
       "      <td>Belgium Jupiler League</td>\n",
       "      <td>2008/2009</td>\n",
       "      <td>2008-08-16</td>\n",
       "      <td>0</td>\n",
       "      <td>3</td>\n",
       "      <td>KSV Cercle Brugge</td>\n",
       "      <td>RSC Anderlecht</td>\n",
       "      <td>3</td>\n",
       "      <td>W2</td>\n",
       "    </tr>\n",
       "    <tr>\n",
       "      <th>3</th>\n",
       "      <td>1</td>\n",
       "      <td>Belgium Jupiler League</td>\n",
       "      <td>2008/2009</td>\n",
       "      <td>2008-08-17</td>\n",
       "      <td>5</td>\n",
       "      <td>0</td>\n",
       "      <td>KAA Gent</td>\n",
       "      <td>RAEC Mons</td>\n",
       "      <td>5</td>\n",
       "      <td>W1</td>\n",
       "    </tr>\n",
       "    <tr>\n",
       "      <th>4</th>\n",
       "      <td>1</td>\n",
       "      <td>Belgium Jupiler League</td>\n",
       "      <td>2008/2009</td>\n",
       "      <td>2008-08-16</td>\n",
       "      <td>1</td>\n",
       "      <td>3</td>\n",
       "      <td>FCV Dender EH</td>\n",
       "      <td>Standard de Liège</td>\n",
       "      <td>4</td>\n",
       "      <td>W2</td>\n",
       "    </tr>\n",
       "  </tbody>\n",
       "</table>\n",
       "</div>"
      ],
      "text/plain": [
       "   id             league_name     season       date  home_team_goal  \\\n",
       "0   1  Belgium Jupiler League  2008/2009 2008-08-17               1   \n",
       "1   1  Belgium Jupiler League  2008/2009 2008-08-16               0   \n",
       "2   1  Belgium Jupiler League  2008/2009 2008-08-16               0   \n",
       "3   1  Belgium Jupiler League  2008/2009 2008-08-17               5   \n",
       "4   1  Belgium Jupiler League  2008/2009 2008-08-16               1   \n",
       "\n",
       "   away_team_goal          home_team          away_team  total_goals outcome  \n",
       "0               1           KRC Genk       Beerschot AC            2       D  \n",
       "1               0   SV Zulte-Waregem   Sporting Lokeren            0       D  \n",
       "2               3  KSV Cercle Brugge     RSC Anderlecht            3      W2  \n",
       "3               0           KAA Gent          RAEC Mons            5      W1  \n",
       "4               3      FCV Dender EH  Standard de Liège            4      W2  "
      ]
     },
     "execution_count": 29,
     "metadata": {},
     "output_type": "execute_result"
    }
   ],
   "source": [
    "df_1.head()"
   ]
  },
  {
   "cell_type": "code",
   "execution_count": 30,
   "metadata": {},
   "outputs": [
    {
     "data": {
      "text/html": [
       "<div>\n",
       "<style scoped>\n",
       "    .dataframe tbody tr th:only-of-type {\n",
       "        vertical-align: middle;\n",
       "    }\n",
       "\n",
       "    .dataframe tbody tr th {\n",
       "        vertical-align: top;\n",
       "    }\n",
       "\n",
       "    .dataframe thead th {\n",
       "        text-align: right;\n",
       "    }\n",
       "</style>\n",
       "<table border=\"1\" class=\"dataframe\">\n",
       "  <thead>\n",
       "    <tr style=\"text-align: right;\">\n",
       "      <th></th>\n",
       "      <th>id</th>\n",
       "      <th>league_name</th>\n",
       "      <th>season</th>\n",
       "      <th>date</th>\n",
       "      <th>home_team_goal</th>\n",
       "      <th>away_team_goal</th>\n",
       "      <th>home_team</th>\n",
       "      <th>away_team</th>\n",
       "      <th>total_goals</th>\n",
       "      <th>outcome</th>\n",
       "    </tr>\n",
       "  </thead>\n",
       "  <tbody>\n",
       "    <tr>\n",
       "      <th>0</th>\n",
       "      <td>1</td>\n",
       "      <td>Belgium Jupiler League</td>\n",
       "      <td>2008/2009</td>\n",
       "      <td>2008-08-17</td>\n",
       "      <td>1</td>\n",
       "      <td>1</td>\n",
       "      <td>KRC Genk</td>\n",
       "      <td>Beerschot AC</td>\n",
       "      <td>2</td>\n",
       "      <td>D</td>\n",
       "    </tr>\n",
       "    <tr>\n",
       "      <th>1</th>\n",
       "      <td>1</td>\n",
       "      <td>Belgium Jupiler League</td>\n",
       "      <td>2008/2009</td>\n",
       "      <td>2008-08-16</td>\n",
       "      <td>0</td>\n",
       "      <td>0</td>\n",
       "      <td>SV Zulte-Waregem</td>\n",
       "      <td>Sporting Lokeren</td>\n",
       "      <td>0</td>\n",
       "      <td>D</td>\n",
       "    </tr>\n",
       "    <tr>\n",
       "      <th>2</th>\n",
       "      <td>1</td>\n",
       "      <td>Belgium Jupiler League</td>\n",
       "      <td>2008/2009</td>\n",
       "      <td>2008-08-16</td>\n",
       "      <td>0</td>\n",
       "      <td>3</td>\n",
       "      <td>KSV Cercle Brugge</td>\n",
       "      <td>RSC Anderlecht</td>\n",
       "      <td>3</td>\n",
       "      <td>W2</td>\n",
       "    </tr>\n",
       "    <tr>\n",
       "      <th>3</th>\n",
       "      <td>1</td>\n",
       "      <td>Belgium Jupiler League</td>\n",
       "      <td>2008/2009</td>\n",
       "      <td>2008-08-17</td>\n",
       "      <td>5</td>\n",
       "      <td>0</td>\n",
       "      <td>KAA Gent</td>\n",
       "      <td>RAEC Mons</td>\n",
       "      <td>5</td>\n",
       "      <td>W1</td>\n",
       "    </tr>\n",
       "    <tr>\n",
       "      <th>4</th>\n",
       "      <td>1</td>\n",
       "      <td>Belgium Jupiler League</td>\n",
       "      <td>2008/2009</td>\n",
       "      <td>2008-08-16</td>\n",
       "      <td>1</td>\n",
       "      <td>3</td>\n",
       "      <td>FCV Dender EH</td>\n",
       "      <td>Standard de Liège</td>\n",
       "      <td>4</td>\n",
       "      <td>W2</td>\n",
       "    </tr>\n",
       "  </tbody>\n",
       "</table>\n",
       "</div>"
      ],
      "text/plain": [
       "   id             league_name     season       date  home_team_goal  \\\n",
       "0   1  Belgium Jupiler League  2008/2009 2008-08-17               1   \n",
       "1   1  Belgium Jupiler League  2008/2009 2008-08-16               0   \n",
       "2   1  Belgium Jupiler League  2008/2009 2008-08-16               0   \n",
       "3   1  Belgium Jupiler League  2008/2009 2008-08-17               5   \n",
       "4   1  Belgium Jupiler League  2008/2009 2008-08-16               1   \n",
       "\n",
       "   away_team_goal          home_team          away_team  total_goals outcome  \n",
       "0               1           KRC Genk       Beerschot AC            2       D  \n",
       "1               0   SV Zulte-Waregem   Sporting Lokeren            0       D  \n",
       "2               3  KSV Cercle Brugge     RSC Anderlecht            3      W2  \n",
       "3               0           KAA Gent          RAEC Mons            5      W1  \n",
       "4               3      FCV Dender EH  Standard de Liège            4      W2  "
      ]
     },
     "execution_count": 30,
     "metadata": {},
     "output_type": "execute_result"
    }
   ],
   "source": [
    "df_wt = df_1.copy()\n",
    "df_wt.head()"
   ]
  },
  {
   "cell_type": "markdown",
   "metadata": {},
   "source": [
    "Adding a column for the name of the winning team"
   ]
  },
  {
   "cell_type": "code",
   "execution_count": 31,
   "metadata": {},
   "outputs": [
    {
     "data": {
      "text/html": [
       "<div>\n",
       "<style scoped>\n",
       "    .dataframe tbody tr th:only-of-type {\n",
       "        vertical-align: middle;\n",
       "    }\n",
       "\n",
       "    .dataframe tbody tr th {\n",
       "        vertical-align: top;\n",
       "    }\n",
       "\n",
       "    .dataframe thead th {\n",
       "        text-align: right;\n",
       "    }\n",
       "</style>\n",
       "<table border=\"1\" class=\"dataframe\">\n",
       "  <thead>\n",
       "    <tr style=\"text-align: right;\">\n",
       "      <th></th>\n",
       "      <th>id</th>\n",
       "      <th>league_name</th>\n",
       "      <th>season</th>\n",
       "      <th>date</th>\n",
       "      <th>home_team_goal</th>\n",
       "      <th>away_team_goal</th>\n",
       "      <th>home_team</th>\n",
       "      <th>away_team</th>\n",
       "      <th>total_goals</th>\n",
       "      <th>outcome</th>\n",
       "      <th>winning_team</th>\n",
       "    </tr>\n",
       "  </thead>\n",
       "  <tbody>\n",
       "    <tr>\n",
       "      <th>0</th>\n",
       "      <td>1</td>\n",
       "      <td>Belgium Jupiler League</td>\n",
       "      <td>2008/2009</td>\n",
       "      <td>2008-08-17</td>\n",
       "      <td>1</td>\n",
       "      <td>1</td>\n",
       "      <td>KRC Genk</td>\n",
       "      <td>Beerschot AC</td>\n",
       "      <td>2</td>\n",
       "      <td>D</td>\n",
       "      <td>NaN</td>\n",
       "    </tr>\n",
       "    <tr>\n",
       "      <th>1</th>\n",
       "      <td>1</td>\n",
       "      <td>Belgium Jupiler League</td>\n",
       "      <td>2008/2009</td>\n",
       "      <td>2008-08-16</td>\n",
       "      <td>0</td>\n",
       "      <td>0</td>\n",
       "      <td>SV Zulte-Waregem</td>\n",
       "      <td>Sporting Lokeren</td>\n",
       "      <td>0</td>\n",
       "      <td>D</td>\n",
       "      <td>NaN</td>\n",
       "    </tr>\n",
       "    <tr>\n",
       "      <th>2</th>\n",
       "      <td>1</td>\n",
       "      <td>Belgium Jupiler League</td>\n",
       "      <td>2008/2009</td>\n",
       "      <td>2008-08-16</td>\n",
       "      <td>0</td>\n",
       "      <td>3</td>\n",
       "      <td>KSV Cercle Brugge</td>\n",
       "      <td>RSC Anderlecht</td>\n",
       "      <td>3</td>\n",
       "      <td>W2</td>\n",
       "      <td>RSC Anderlecht</td>\n",
       "    </tr>\n",
       "    <tr>\n",
       "      <th>3</th>\n",
       "      <td>1</td>\n",
       "      <td>Belgium Jupiler League</td>\n",
       "      <td>2008/2009</td>\n",
       "      <td>2008-08-17</td>\n",
       "      <td>5</td>\n",
       "      <td>0</td>\n",
       "      <td>KAA Gent</td>\n",
       "      <td>RAEC Mons</td>\n",
       "      <td>5</td>\n",
       "      <td>W1</td>\n",
       "      <td>KAA Gent</td>\n",
       "    </tr>\n",
       "    <tr>\n",
       "      <th>4</th>\n",
       "      <td>1</td>\n",
       "      <td>Belgium Jupiler League</td>\n",
       "      <td>2008/2009</td>\n",
       "      <td>2008-08-16</td>\n",
       "      <td>1</td>\n",
       "      <td>3</td>\n",
       "      <td>FCV Dender EH</td>\n",
       "      <td>Standard de Liège</td>\n",
       "      <td>4</td>\n",
       "      <td>W2</td>\n",
       "      <td>Standard de Liège</td>\n",
       "    </tr>\n",
       "  </tbody>\n",
       "</table>\n",
       "</div>"
      ],
      "text/plain": [
       "   id             league_name     season       date  home_team_goal  \\\n",
       "0   1  Belgium Jupiler League  2008/2009 2008-08-17               1   \n",
       "1   1  Belgium Jupiler League  2008/2009 2008-08-16               0   \n",
       "2   1  Belgium Jupiler League  2008/2009 2008-08-16               0   \n",
       "3   1  Belgium Jupiler League  2008/2009 2008-08-17               5   \n",
       "4   1  Belgium Jupiler League  2008/2009 2008-08-16               1   \n",
       "\n",
       "   away_team_goal          home_team          away_team  total_goals outcome  \\\n",
       "0               1           KRC Genk       Beerschot AC            2       D   \n",
       "1               0   SV Zulte-Waregem   Sporting Lokeren            0       D   \n",
       "2               3  KSV Cercle Brugge     RSC Anderlecht            3      W2   \n",
       "3               0           KAA Gent          RAEC Mons            5      W1   \n",
       "4               3      FCV Dender EH  Standard de Liège            4      W2   \n",
       "\n",
       "        winning_team  \n",
       "0                NaN  \n",
       "1                NaN  \n",
       "2     RSC Anderlecht  \n",
       "3           KAA Gent  \n",
       "4  Standard de Liège  "
      ]
     },
     "execution_count": 31,
     "metadata": {},
     "output_type": "execute_result"
    }
   ],
   "source": [
    " def winteam (x,y,z):\n",
    "    if z == 'D':\n",
    "        return float('NaN')\n",
    "    if z =='W1':\n",
    "        return x\n",
    "    if z == 'W2':\n",
    "        return y\n",
    "df_wt['winning_team'] = list(map(winteam,df_wt['home_team'],df_wt['away_team'],df_wt['outcome']))\n",
    "df_wt.head()"
   ]
  },
  {
   "cell_type": "code",
   "execution_count": 32,
   "metadata": {
    "scrolled": true
   },
   "outputs": [
    {
     "data": {
      "text/html": [
       "<div>\n",
       "<style scoped>\n",
       "    .dataframe tbody tr th:only-of-type {\n",
       "        vertical-align: middle;\n",
       "    }\n",
       "\n",
       "    .dataframe tbody tr th {\n",
       "        vertical-align: top;\n",
       "    }\n",
       "\n",
       "    .dataframe thead th {\n",
       "        text-align: right;\n",
       "    }\n",
       "</style>\n",
       "<table border=\"1\" class=\"dataframe\">\n",
       "  <thead>\n",
       "    <tr style=\"text-align: right;\">\n",
       "      <th></th>\n",
       "      <th>id</th>\n",
       "      <th>league_name</th>\n",
       "      <th>season</th>\n",
       "      <th>date</th>\n",
       "      <th>home_team_goal</th>\n",
       "      <th>away_team_goal</th>\n",
       "      <th>home_team</th>\n",
       "      <th>away_team</th>\n",
       "      <th>total_goals</th>\n",
       "      <th>outcome</th>\n",
       "      <th>winning_team</th>\n",
       "    </tr>\n",
       "  </thead>\n",
       "  <tbody>\n",
       "    <tr>\n",
       "      <th>2</th>\n",
       "      <td>1</td>\n",
       "      <td>Belgium Jupiler League</td>\n",
       "      <td>2008/2009</td>\n",
       "      <td>2008-08-16</td>\n",
       "      <td>0</td>\n",
       "      <td>3</td>\n",
       "      <td>KSV Cercle Brugge</td>\n",
       "      <td>RSC Anderlecht</td>\n",
       "      <td>3</td>\n",
       "      <td>W2</td>\n",
       "      <td>RSC Anderlecht</td>\n",
       "    </tr>\n",
       "    <tr>\n",
       "      <th>3</th>\n",
       "      <td>1</td>\n",
       "      <td>Belgium Jupiler League</td>\n",
       "      <td>2008/2009</td>\n",
       "      <td>2008-08-17</td>\n",
       "      <td>5</td>\n",
       "      <td>0</td>\n",
       "      <td>KAA Gent</td>\n",
       "      <td>RAEC Mons</td>\n",
       "      <td>5</td>\n",
       "      <td>W1</td>\n",
       "      <td>KAA Gent</td>\n",
       "    </tr>\n",
       "    <tr>\n",
       "      <th>4</th>\n",
       "      <td>1</td>\n",
       "      <td>Belgium Jupiler League</td>\n",
       "      <td>2008/2009</td>\n",
       "      <td>2008-08-16</td>\n",
       "      <td>1</td>\n",
       "      <td>3</td>\n",
       "      <td>FCV Dender EH</td>\n",
       "      <td>Standard de Liège</td>\n",
       "      <td>4</td>\n",
       "      <td>W2</td>\n",
       "      <td>Standard de Liège</td>\n",
       "    </tr>\n",
       "    <tr>\n",
       "      <th>7</th>\n",
       "      <td>1</td>\n",
       "      <td>Belgium Jupiler League</td>\n",
       "      <td>2008/2009</td>\n",
       "      <td>2008-08-16</td>\n",
       "      <td>1</td>\n",
       "      <td>2</td>\n",
       "      <td>Tubize</td>\n",
       "      <td>Royal Excel Mouscron</td>\n",
       "      <td>3</td>\n",
       "      <td>W2</td>\n",
       "      <td>Royal Excel Mouscron</td>\n",
       "    </tr>\n",
       "    <tr>\n",
       "      <th>8</th>\n",
       "      <td>1</td>\n",
       "      <td>Belgium Jupiler League</td>\n",
       "      <td>2008/2009</td>\n",
       "      <td>2008-08-16</td>\n",
       "      <td>1</td>\n",
       "      <td>0</td>\n",
       "      <td>KVC Westerlo</td>\n",
       "      <td>Sporting Charleroi</td>\n",
       "      <td>1</td>\n",
       "      <td>W1</td>\n",
       "      <td>KVC Westerlo</td>\n",
       "    </tr>\n",
       "  </tbody>\n",
       "</table>\n",
       "</div>"
      ],
      "text/plain": [
       "   id             league_name     season       date  home_team_goal  \\\n",
       "2   1  Belgium Jupiler League  2008/2009 2008-08-16               0   \n",
       "3   1  Belgium Jupiler League  2008/2009 2008-08-17               5   \n",
       "4   1  Belgium Jupiler League  2008/2009 2008-08-16               1   \n",
       "7   1  Belgium Jupiler League  2008/2009 2008-08-16               1   \n",
       "8   1  Belgium Jupiler League  2008/2009 2008-08-16               1   \n",
       "\n",
       "   away_team_goal          home_team             away_team  total_goals  \\\n",
       "2               3  KSV Cercle Brugge        RSC Anderlecht            3   \n",
       "3               0           KAA Gent             RAEC Mons            5   \n",
       "4               3      FCV Dender EH     Standard de Liège            4   \n",
       "7               2             Tubize  Royal Excel Mouscron            3   \n",
       "8               0       KVC Westerlo    Sporting Charleroi            1   \n",
       "\n",
       "  outcome          winning_team  \n",
       "2      W2        RSC Anderlecht  \n",
       "3      W1              KAA Gent  \n",
       "4      W2     Standard de Liège  \n",
       "7      W2  Royal Excel Mouscron  \n",
       "8      W1          KVC Westerlo  "
      ]
     },
     "execution_count": 32,
     "metadata": {},
     "output_type": "execute_result"
    }
   ],
   "source": [
    "# dropping null values \n",
    "df_wt.dropna(inplace=True)\n",
    "df_wt.head()"
   ]
  },
  {
   "cell_type": "markdown",
   "metadata": {},
   "source": [
    "Grouping by **league_name** and **winning_team** then counting the values <br>\n",
    "Sorted the values to have the highest on top and converted the resulting series to a dataframe"
   ]
  },
  {
   "cell_type": "code",
   "execution_count": 33,
   "metadata": {},
   "outputs": [],
   "source": [
    "df_most_wins = df_wt.groupby(['league_name','winning_team']).count()['id'].sort_values(ascending=False).to_frame().reset_index()"
   ]
  },
  {
   "cell_type": "code",
   "execution_count": 34,
   "metadata": {},
   "outputs": [
    {
     "data": {
      "text/html": [
       "<div>\n",
       "<style scoped>\n",
       "    .dataframe tbody tr th:only-of-type {\n",
       "        vertical-align: middle;\n",
       "    }\n",
       "\n",
       "    .dataframe tbody tr th {\n",
       "        vertical-align: top;\n",
       "    }\n",
       "\n",
       "    .dataframe thead th {\n",
       "        text-align: right;\n",
       "    }\n",
       "</style>\n",
       "<table border=\"1\" class=\"dataframe\">\n",
       "  <thead>\n",
       "    <tr style=\"text-align: right;\">\n",
       "      <th></th>\n",
       "      <th>league_name</th>\n",
       "      <th>winning_team</th>\n",
       "      <th>id</th>\n",
       "    </tr>\n",
       "  </thead>\n",
       "  <tbody>\n",
       "    <tr>\n",
       "      <th>0</th>\n",
       "      <td>Spain LIGA BBVA</td>\n",
       "      <td>FC Barcelona</td>\n",
       "      <td>234</td>\n",
       "    </tr>\n",
       "    <tr>\n",
       "      <th>1</th>\n",
       "      <td>Spain LIGA BBVA</td>\n",
       "      <td>Real Madrid CF</td>\n",
       "      <td>228</td>\n",
       "    </tr>\n",
       "    <tr>\n",
       "      <th>2</th>\n",
       "      <td>Scotland Premier League</td>\n",
       "      <td>Celtic</td>\n",
       "      <td>218</td>\n",
       "    </tr>\n",
       "    <tr>\n",
       "      <th>3</th>\n",
       "      <td>Germany 1. Bundesliga</td>\n",
       "      <td>FC Bayern Munich</td>\n",
       "      <td>193</td>\n",
       "    </tr>\n",
       "    <tr>\n",
       "      <th>4</th>\n",
       "      <td>England Premier League</td>\n",
       "      <td>Manchester United</td>\n",
       "      <td>192</td>\n",
       "    </tr>\n",
       "  </tbody>\n",
       "</table>\n",
       "</div>"
      ],
      "text/plain": [
       "               league_name       winning_team   id\n",
       "0          Spain LIGA BBVA       FC Barcelona  234\n",
       "1          Spain LIGA BBVA     Real Madrid CF  228\n",
       "2  Scotland Premier League             Celtic  218\n",
       "3    Germany 1. Bundesliga   FC Bayern Munich  193\n",
       "4   England Premier League  Manchester United  192"
      ]
     },
     "execution_count": 34,
     "metadata": {},
     "output_type": "execute_result"
    }
   ],
   "source": [
    "df_most_wins.head()"
   ]
  },
  {
   "cell_type": "markdown",
   "metadata": {},
   "source": [
    "In order to get only the higest from each league the duplicated values from the **league_name** column are dropped keeping the first"
   ]
  },
  {
   "cell_type": "code",
   "execution_count": 35,
   "metadata": {},
   "outputs": [],
   "source": [
    "df_most_wins.drop_duplicates(subset=['league_name'],keep='first',inplace=True)"
   ]
  },
  {
   "cell_type": "markdown",
   "metadata": {},
   "source": [
    "<a id = 'q3'></a>\n",
    "Plotting the results in a bar chart"
   ]
  },
  {
   "cell_type": "code",
   "execution_count": 36,
   "metadata": {
    "scrolled": true
   },
   "outputs": [
    {
     "data": {
      "text/plain": [
       "Text(0.5, 1.0, 'Highest winning team in each league')"
      ]
     },
     "execution_count": 36,
     "metadata": {},
     "output_type": "execute_result"
    },
    {
     "data": {
      "image/png": "[encoded data removed]",
      "text/plain": [
       "<Figure size 576x576 with 1 Axes>"
      ]
     },
     "metadata": {
      "needs_background": "light"
     },
     "output_type": "display_data"
    }
   ],
   "source": [
    "index = np.arange(0,len(df_most_wins))\n",
    "plt.figure(figsize=(8,8))\n",
    "plt.bar(index , df_most_wins['id'])\n",
    "plt.xticks(index, df_most_wins['winning_team'],rotation = 90);\n",
    "plt.xlabel('Teams', fontsize = 15)\n",
    "plt.ylabel('Number of wins',fontsize = 15)\n",
    "plt.title('Highest winning team in each league', fontsize = 16)"
   ]
  },
  {
   "cell_type": "markdown",
   "metadata": {},
   "source": [
    "A bar chart was used because the comparison was between quantitative data and categorical data and the categorical data doesnt have a lot of values.\n",
    "<br>The team with the higest wins in its league but the lowest when compared to other leagues is **RSC Anderlecht**"
   ]
  },
  {
   "cell_type": "markdown",
   "metadata": {},
   "source": [
    "Selecting only games in the 2014/2015 season"
   ]
  },
  {
   "cell_type": "code",
   "execution_count": 37,
   "metadata": {},
   "outputs": [
    {
     "data": {
      "text/html": [
       "<div>\n",
       "<style scoped>\n",
       "    .dataframe tbody tr th:only-of-type {\n",
       "        vertical-align: middle;\n",
       "    }\n",
       "\n",
       "    .dataframe tbody tr th {\n",
       "        vertical-align: top;\n",
       "    }\n",
       "\n",
       "    .dataframe thead th {\n",
       "        text-align: right;\n",
       "    }\n",
       "</style>\n",
       "<table border=\"1\" class=\"dataframe\">\n",
       "  <thead>\n",
       "    <tr style=\"text-align: right;\">\n",
       "      <th></th>\n",
       "      <th>id</th>\n",
       "      <th>league_name</th>\n",
       "      <th>season</th>\n",
       "      <th>date</th>\n",
       "      <th>home_team_goal</th>\n",
       "      <th>away_team_goal</th>\n",
       "      <th>home_team</th>\n",
       "      <th>away_team</th>\n",
       "      <th>total_goals</th>\n",
       "      <th>outcome</th>\n",
       "      <th>winning_team</th>\n",
       "    </tr>\n",
       "  </thead>\n",
       "  <tbody>\n",
       "    <tr>\n",
       "      <th>1248</th>\n",
       "      <td>1</td>\n",
       "      <td>Belgium Jupiler League</td>\n",
       "      <td>2014/2015</td>\n",
       "      <td>2014-07-25</td>\n",
       "      <td>3</td>\n",
       "      <td>0</td>\n",
       "      <td>Standard de Liège</td>\n",
       "      <td>Sporting Charleroi</td>\n",
       "      <td>3</td>\n",
       "      <td>W1</td>\n",
       "      <td>Standard de Liège</td>\n",
       "    </tr>\n",
       "    <tr>\n",
       "      <th>1249</th>\n",
       "      <td>1</td>\n",
       "      <td>Belgium Jupiler League</td>\n",
       "      <td>2014/2015</td>\n",
       "      <td>2014-07-26</td>\n",
       "      <td>0</td>\n",
       "      <td>2</td>\n",
       "      <td>Waasland-Beveren</td>\n",
       "      <td>Club Brugge KV</td>\n",
       "      <td>2</td>\n",
       "      <td>W2</td>\n",
       "      <td>Club Brugge KV</td>\n",
       "    </tr>\n",
       "    <tr>\n",
       "      <th>1251</th>\n",
       "      <td>1</td>\n",
       "      <td>Belgium Jupiler League</td>\n",
       "      <td>2014/2015</td>\n",
       "      <td>2014-07-26</td>\n",
       "      <td>2</td>\n",
       "      <td>0</td>\n",
       "      <td>Lierse SK</td>\n",
       "      <td>KV Oostende</td>\n",
       "      <td>2</td>\n",
       "      <td>W1</td>\n",
       "      <td>Lierse SK</td>\n",
       "    </tr>\n",
       "    <tr>\n",
       "      <th>1252</th>\n",
       "      <td>1</td>\n",
       "      <td>Belgium Jupiler League</td>\n",
       "      <td>2014/2015</td>\n",
       "      <td>2014-07-26</td>\n",
       "      <td>1</td>\n",
       "      <td>0</td>\n",
       "      <td>KVC Westerlo</td>\n",
       "      <td>Sporting Lokeren</td>\n",
       "      <td>1</td>\n",
       "      <td>W1</td>\n",
       "      <td>KVC Westerlo</td>\n",
       "    </tr>\n",
       "    <tr>\n",
       "      <th>1253</th>\n",
       "      <td>1</td>\n",
       "      <td>Belgium Jupiler League</td>\n",
       "      <td>2014/2015</td>\n",
       "      <td>2014-07-27</td>\n",
       "      <td>3</td>\n",
       "      <td>1</td>\n",
       "      <td>KV Mechelen</td>\n",
       "      <td>KRC Genk</td>\n",
       "      <td>4</td>\n",
       "      <td>W1</td>\n",
       "      <td>KV Mechelen</td>\n",
       "    </tr>\n",
       "  </tbody>\n",
       "</table>\n",
       "</div>"
      ],
      "text/plain": [
       "      id             league_name     season       date  home_team_goal  \\\n",
       "1248   1  Belgium Jupiler League  2014/2015 2014-07-25               3   \n",
       "1249   1  Belgium Jupiler League  2014/2015 2014-07-26               0   \n",
       "1251   1  Belgium Jupiler League  2014/2015 2014-07-26               2   \n",
       "1252   1  Belgium Jupiler League  2014/2015 2014-07-26               1   \n",
       "1253   1  Belgium Jupiler League  2014/2015 2014-07-27               3   \n",
       "\n",
       "      away_team_goal          home_team           away_team  total_goals  \\\n",
       "1248               0  Standard de Liège  Sporting Charleroi            3   \n",
       "1249               2   Waasland-Beveren      Club Brugge KV            2   \n",
       "1251               0          Lierse SK         KV Oostende            2   \n",
       "1252               0       KVC Westerlo    Sporting Lokeren            1   \n",
       "1253               1        KV Mechelen            KRC Genk            4   \n",
       "\n",
       "     outcome       winning_team  \n",
       "1248      W1  Standard de Liège  \n",
       "1249      W2     Club Brugge KV  \n",
       "1251      W1          Lierse SK  \n",
       "1252      W1       KVC Westerlo  \n",
       "1253      W1        KV Mechelen  "
      ]
     },
     "execution_count": 37,
     "metadata": {},
     "output_type": "execute_result"
    }
   ],
   "source": [
    "df_1415 = df_wt.query('season == \"2014/2015\"')\n",
    "df_1415.head()"
   ]
  },
  {
   "cell_type": "markdown",
   "metadata": {},
   "source": [
    "Grouping by __league_name__ and __winning_team__ then counting the values <br>\n",
    "Sorted the values to have the highest on top and converted the resulting series to a dataframe"
   ]
  },
  {
   "cell_type": "code",
   "execution_count": 38,
   "metadata": {},
   "outputs": [
    {
     "data": {
      "text/html": [
       "<div>\n",
       "<style scoped>\n",
       "    .dataframe tbody tr th:only-of-type {\n",
       "        vertical-align: middle;\n",
       "    }\n",
       "\n",
       "    .dataframe tbody tr th {\n",
       "        vertical-align: top;\n",
       "    }\n",
       "\n",
       "    .dataframe thead th {\n",
       "        text-align: right;\n",
       "    }\n",
       "</style>\n",
       "<table border=\"1\" class=\"dataframe\">\n",
       "  <thead>\n",
       "    <tr style=\"text-align: right;\">\n",
       "      <th></th>\n",
       "      <th>league_name</th>\n",
       "      <th>winning_team</th>\n",
       "      <th>id</th>\n",
       "    </tr>\n",
       "  </thead>\n",
       "  <tbody>\n",
       "    <tr>\n",
       "      <th>0</th>\n",
       "      <td>Spain LIGA BBVA</td>\n",
       "      <td>Real Madrid CF</td>\n",
       "      <td>30</td>\n",
       "    </tr>\n",
       "    <tr>\n",
       "      <th>1</th>\n",
       "      <td>Spain LIGA BBVA</td>\n",
       "      <td>FC Barcelona</td>\n",
       "      <td>30</td>\n",
       "    </tr>\n",
       "    <tr>\n",
       "      <th>2</th>\n",
       "      <td>Netherlands Eredivisie</td>\n",
       "      <td>PSV</td>\n",
       "      <td>29</td>\n",
       "    </tr>\n",
       "    <tr>\n",
       "      <th>3</th>\n",
       "      <td>Scotland Premier League</td>\n",
       "      <td>Celtic</td>\n",
       "      <td>29</td>\n",
       "    </tr>\n",
       "    <tr>\n",
       "      <th>4</th>\n",
       "      <td>Portugal Liga ZON Sagres</td>\n",
       "      <td>SL Benfica</td>\n",
       "      <td>27</td>\n",
       "    </tr>\n",
       "  </tbody>\n",
       "</table>\n",
       "</div>"
      ],
      "text/plain": [
       "                league_name    winning_team  id\n",
       "0           Spain LIGA BBVA  Real Madrid CF  30\n",
       "1           Spain LIGA BBVA    FC Barcelona  30\n",
       "2    Netherlands Eredivisie             PSV  29\n",
       "3   Scotland Premier League          Celtic  29\n",
       "4  Portugal Liga ZON Sagres      SL Benfica  27"
      ]
     },
     "execution_count": 38,
     "metadata": {},
     "output_type": "execute_result"
    }
   ],
   "source": [
    "wins_per_team = df_1415.groupby(['league_name','winning_team']).count()['id'].sort_values(ascending=False).to_frame().reset_index()\n",
    "\n",
    "wins_per_team.head()"
   ]
  },
  {
   "cell_type": "markdown",
   "metadata": {},
   "source": [
    "In order to get only the higest from each league the duplicated values from the __league_name__ column are dropped keeping the first "
   ]
  },
  {
   "cell_type": "code",
   "execution_count": 39,
   "metadata": {},
   "outputs": [
    {
     "data": {
      "text/html": [
       "<div>\n",
       "<style scoped>\n",
       "    .dataframe tbody tr th:only-of-type {\n",
       "        vertical-align: middle;\n",
       "    }\n",
       "\n",
       "    .dataframe tbody tr th {\n",
       "        vertical-align: top;\n",
       "    }\n",
       "\n",
       "    .dataframe thead th {\n",
       "        text-align: right;\n",
       "    }\n",
       "</style>\n",
       "<table border=\"1\" class=\"dataframe\">\n",
       "  <thead>\n",
       "    <tr style=\"text-align: right;\">\n",
       "      <th></th>\n",
       "      <th>league_name</th>\n",
       "      <th>winning_team</th>\n",
       "      <th>id</th>\n",
       "    </tr>\n",
       "  </thead>\n",
       "  <tbody>\n",
       "    <tr>\n",
       "      <th>0</th>\n",
       "      <td>Spain LIGA BBVA</td>\n",
       "      <td>Real Madrid CF</td>\n",
       "      <td>30</td>\n",
       "    </tr>\n",
       "    <tr>\n",
       "      <th>2</th>\n",
       "      <td>Netherlands Eredivisie</td>\n",
       "      <td>PSV</td>\n",
       "      <td>29</td>\n",
       "    </tr>\n",
       "    <tr>\n",
       "      <th>3</th>\n",
       "      <td>Scotland Premier League</td>\n",
       "      <td>Celtic</td>\n",
       "      <td>29</td>\n",
       "    </tr>\n",
       "    <tr>\n",
       "      <th>4</th>\n",
       "      <td>Portugal Liga ZON Sagres</td>\n",
       "      <td>SL Benfica</td>\n",
       "      <td>27</td>\n",
       "    </tr>\n",
       "    <tr>\n",
       "      <th>5</th>\n",
       "      <td>Italy Serie A</td>\n",
       "      <td>Juventus</td>\n",
       "      <td>26</td>\n",
       "    </tr>\n",
       "    <tr>\n",
       "      <th>6</th>\n",
       "      <td>England Premier League</td>\n",
       "      <td>Chelsea</td>\n",
       "      <td>26</td>\n",
       "    </tr>\n",
       "    <tr>\n",
       "      <th>7</th>\n",
       "      <td>Germany 1. Bundesliga</td>\n",
       "      <td>FC Bayern Munich</td>\n",
       "      <td>25</td>\n",
       "    </tr>\n",
       "    <tr>\n",
       "      <th>9</th>\n",
       "      <td>France Ligue 1</td>\n",
       "      <td>Paris Saint-Germain</td>\n",
       "      <td>24</td>\n",
       "    </tr>\n",
       "    <tr>\n",
       "      <th>10</th>\n",
       "      <td>Switzerland Super League</td>\n",
       "      <td>FC Basel</td>\n",
       "      <td>24</td>\n",
       "    </tr>\n",
       "    <tr>\n",
       "      <th>39</th>\n",
       "      <td>Poland Ekstraklasa</td>\n",
       "      <td>Legia Warszawa</td>\n",
       "      <td>17</td>\n",
       "    </tr>\n",
       "    <tr>\n",
       "      <th>42</th>\n",
       "      <td>Belgium Jupiler League</td>\n",
       "      <td>Club Brugge KV</td>\n",
       "      <td>17</td>\n",
       "    </tr>\n",
       "  </tbody>\n",
       "</table>\n",
       "</div>"
      ],
      "text/plain": [
       "                 league_name         winning_team  id\n",
       "0            Spain LIGA BBVA       Real Madrid CF  30\n",
       "2     Netherlands Eredivisie                  PSV  29\n",
       "3    Scotland Premier League               Celtic  29\n",
       "4   Portugal Liga ZON Sagres           SL Benfica  27\n",
       "5              Italy Serie A             Juventus  26\n",
       "6     England Premier League              Chelsea  26\n",
       "7      Germany 1. Bundesliga     FC Bayern Munich  25\n",
       "9             France Ligue 1  Paris Saint-Germain  24\n",
       "10  Switzerland Super League             FC Basel  24\n",
       "39        Poland Ekstraklasa       Legia Warszawa  17\n",
       "42    Belgium Jupiler League       Club Brugge KV  17"
      ]
     },
     "execution_count": 39,
     "metadata": {},
     "output_type": "execute_result"
    }
   ],
   "source": [
    "wins_per_team.drop_duplicates(subset=['league_name'],keep='first',inplace=True)\n",
    "wins_per_team"
   ]
  },
  {
   "cell_type": "markdown",
   "metadata": {},
   "source": [
    "<a id = 'q3b'></a>\n",
    "Plotting the result in a bar chart"
   ]
  },
  {
   "cell_type": "code",
   "execution_count": 40,
   "metadata": {
    "scrolled": true
   },
   "outputs": [
    {
     "data": {
      "text/plain": [
       "Text(0.5, 1.0, 'Highest winning team in each league for 2014/2015 season')"
      ]
     },
     "execution_count": 40,
     "metadata": {},
     "output_type": "execute_result"
    },
    {
     "data": {
      "image/png": "[encoded data removed]",
      "text/plain": [
       "<Figure size 576x576 with 1 Axes>"
      ]
     },
     "metadata": {
      "needs_background": "light"
     },
     "output_type": "display_data"
    }
   ],
   "source": [
    "index = np.arange(0,len(wins_per_team))\n",
    "plt.figure(figsize=(8,8))\n",
    "plt.bar(index , wins_per_team['id'])\n",
    "plt.xticks(index, wins_per_team['winning_team'],rotation = 90);\n",
    "plt.xlabel('Teams', fontsize = 15)\n",
    "plt.ylabel('Number of wins',fontsize = 15)\n",
    "plt.title('Highest winning team in each league for 2014/2015 season', fontsize = 16)"
   ]
  },
  {
   "cell_type": "markdown",
   "metadata": {},
   "source": [
    "A bar chart was used because the comparison was between quantitative data and categorical data and the categorical data doesnt have a lot of values.\n",
    "<br>The team with the higest wins in its league but the lowest when compared to other leagues is **Club Brugge KV** and it is in the same league as **RSC Anderlecht**"
   ]
  },
  {
   "cell_type": "markdown",
   "metadata": {},
   "source": [
    "## Research Question 4: Did players in 2016 meet the potential set for them in 2007"
   ]
  },
  {
   "cell_type": "markdown",
   "metadata": {},
   "source": [
    "To answer this question i will use the following dataframes\n",
    "><li>df_2"
   ]
  },
  {
   "cell_type": "markdown",
   "metadata": {},
   "source": [
    "Splitting the dataframe into two to get the potential set in 2007 and the overall rating in 2016 "
   ]
  },
  {
   "cell_type": "code",
   "execution_count": 41,
   "metadata": {},
   "outputs": [],
   "source": [
    "df_2007 = df_2[df_2['date'].dt.year == 2007]\n",
    "df_2016 = df_2[df_2['date'].dt.year == 2016]"
   ]
  },
  {
   "cell_type": "markdown",
   "metadata": {},
   "source": [
    "Checking for duplicates and dropping them, a name must appear only once in each dataframe"
   ]
  },
  {
   "cell_type": "code",
   "execution_count": 42,
   "metadata": {},
   "outputs": [
    {
     "name": "stderr",
     "output_type": "stream",
     "text": [
      "<ipython-input-42-36d08a56ba84>:3: SettingWithCopyWarning: \n",
      "A value is trying to be set on a copy of a slice from a DataFrame\n",
      "\n",
      "See the caveats in the documentation: https://pandas.pydata.org/pandas-docs/stable/user_guide/indexing.html#returning-a-view-versus-a-copy\n",
      "  df_2007.drop_duplicates(subset =['player_name'], inplace=True)\n"
     ]
    },
    {
     "data": {
      "text/html": [
       "<div>\n",
       "<style scoped>\n",
       "    .dataframe tbody tr th:only-of-type {\n",
       "        vertical-align: middle;\n",
       "    }\n",
       "\n",
       "    .dataframe tbody tr th {\n",
       "        vertical-align: top;\n",
       "    }\n",
       "\n",
       "    .dataframe thead th {\n",
       "        text-align: right;\n",
       "    }\n",
       "</style>\n",
       "<table border=\"1\" class=\"dataframe\">\n",
       "  <thead>\n",
       "    <tr style=\"text-align: right;\">\n",
       "      <th></th>\n",
       "      <th>player_name</th>\n",
       "      <th>birthday</th>\n",
       "      <th>player_api_id</th>\n",
       "      <th>date</th>\n",
       "      <th>overall_rating</th>\n",
       "      <th>potential</th>\n",
       "    </tr>\n",
       "  </thead>\n",
       "  <tbody>\n",
       "    <tr>\n",
       "      <th>4</th>\n",
       "      <td>Aaron Appindangoye</td>\n",
       "      <td>1992-02-29</td>\n",
       "      <td>505942</td>\n",
       "      <td>2007-02-22</td>\n",
       "      <td>61.0</td>\n",
       "      <td>65.0</td>\n",
       "    </tr>\n",
       "    <tr>\n",
       "      <th>37</th>\n",
       "      <td>Aaron Cresswell</td>\n",
       "      <td>1989-12-15</td>\n",
       "      <td>155782</td>\n",
       "      <td>2007-02-22</td>\n",
       "      <td>53.0</td>\n",
       "      <td>60.0</td>\n",
       "    </tr>\n",
       "    <tr>\n",
       "      <th>63</th>\n",
       "      <td>Aaron Doran</td>\n",
       "      <td>1991-05-13</td>\n",
       "      <td>162549</td>\n",
       "      <td>2007-02-22</td>\n",
       "      <td>59.0</td>\n",
       "      <td>70.0</td>\n",
       "    </tr>\n",
       "    <tr>\n",
       "      <th>85</th>\n",
       "      <td>Aaron Galindo</td>\n",
       "      <td>1982-05-08</td>\n",
       "      <td>30572</td>\n",
       "      <td>2007-08-30</td>\n",
       "      <td>71.0</td>\n",
       "      <td>78.0</td>\n",
       "    </tr>\n",
       "    <tr>\n",
       "      <th>110</th>\n",
       "      <td>Aaron Hughes</td>\n",
       "      <td>1979-11-08</td>\n",
       "      <td>23780</td>\n",
       "      <td>2007-08-30</td>\n",
       "      <td>71.0</td>\n",
       "      <td>78.0</td>\n",
       "    </tr>\n",
       "  </tbody>\n",
       "</table>\n",
       "</div>"
      ],
      "text/plain": [
       "            player_name   birthday  player_api_id       date  overall_rating  \\\n",
       "4    Aaron Appindangoye 1992-02-29         505942 2007-02-22            61.0   \n",
       "37      Aaron Cresswell 1989-12-15         155782 2007-02-22            53.0   \n",
       "63          Aaron Doran 1991-05-13         162549 2007-02-22            59.0   \n",
       "85        Aaron Galindo 1982-05-08          30572 2007-08-30            71.0   \n",
       "110        Aaron Hughes 1979-11-08          23780 2007-08-30            71.0   \n",
       "\n",
       "     potential  \n",
       "4         65.0  \n",
       "37        60.0  \n",
       "63        70.0  \n",
       "85        78.0  \n",
       "110       78.0  "
      ]
     },
     "execution_count": 42,
     "metadata": {},
     "output_type": "execute_result"
    }
   ],
   "source": [
    "sum(df_2007.duplicated(subset = ['player_name']))\n",
    "\n",
    "df_2007.drop_duplicates(subset =['player_name'], inplace=True)\n",
    "df_2007.head()"
   ]
  },
  {
   "cell_type": "code",
   "execution_count": 43,
   "metadata": {},
   "outputs": [
    {
     "name": "stderr",
     "output_type": "stream",
     "text": [
      "<ipython-input-43-06d9a6fa98a1>:3: SettingWithCopyWarning: \n",
      "A value is trying to be set on a copy of a slice from a DataFrame\n",
      "\n",
      "See the caveats in the documentation: https://pandas.pydata.org/pandas-docs/stable/user_guide/indexing.html#returning-a-view-versus-a-copy\n",
      "  df_2016.drop_duplicates(subset =['player_name'], inplace=True)\n"
     ]
    },
    {
     "data": {
      "text/html": [
       "<div>\n",
       "<style scoped>\n",
       "    .dataframe tbody tr th:only-of-type {\n",
       "        vertical-align: middle;\n",
       "    }\n",
       "\n",
       "    .dataframe tbody tr th {\n",
       "        vertical-align: top;\n",
       "    }\n",
       "\n",
       "    .dataframe thead th {\n",
       "        text-align: right;\n",
       "    }\n",
       "</style>\n",
       "<table border=\"1\" class=\"dataframe\">\n",
       "  <thead>\n",
       "    <tr style=\"text-align: right;\">\n",
       "      <th></th>\n",
       "      <th>player_name</th>\n",
       "      <th>birthday</th>\n",
       "      <th>player_api_id</th>\n",
       "      <th>date</th>\n",
       "      <th>overall_rating</th>\n",
       "      <th>potential</th>\n",
       "    </tr>\n",
       "  </thead>\n",
       "  <tbody>\n",
       "    <tr>\n",
       "      <th>0</th>\n",
       "      <td>Aaron Appindangoye</td>\n",
       "      <td>1992-02-29</td>\n",
       "      <td>505942</td>\n",
       "      <td>2016-02-18</td>\n",
       "      <td>67.0</td>\n",
       "      <td>71.0</td>\n",
       "    </tr>\n",
       "    <tr>\n",
       "      <th>5</th>\n",
       "      <td>Aaron Cresswell</td>\n",
       "      <td>1989-12-15</td>\n",
       "      <td>155782</td>\n",
       "      <td>2016-04-21</td>\n",
       "      <td>74.0</td>\n",
       "      <td>76.0</td>\n",
       "    </tr>\n",
       "    <tr>\n",
       "      <th>38</th>\n",
       "      <td>Aaron Doran</td>\n",
       "      <td>1991-05-13</td>\n",
       "      <td>162549</td>\n",
       "      <td>2016-01-07</td>\n",
       "      <td>65.0</td>\n",
       "      <td>67.0</td>\n",
       "    </tr>\n",
       "    <tr>\n",
       "      <th>64</th>\n",
       "      <td>Aaron Galindo</td>\n",
       "      <td>1982-05-08</td>\n",
       "      <td>30572</td>\n",
       "      <td>2016-04-21</td>\n",
       "      <td>69.0</td>\n",
       "      <td>69.0</td>\n",
       "    </tr>\n",
       "    <tr>\n",
       "      <th>112</th>\n",
       "      <td>Aaron Hunt</td>\n",
       "      <td>1986-09-04</td>\n",
       "      <td>27316</td>\n",
       "      <td>2016-04-28</td>\n",
       "      <td>77.0</td>\n",
       "      <td>77.0</td>\n",
       "    </tr>\n",
       "  </tbody>\n",
       "</table>\n",
       "</div>"
      ],
      "text/plain": [
       "            player_name   birthday  player_api_id       date  overall_rating  \\\n",
       "0    Aaron Appindangoye 1992-02-29         505942 2016-02-18            67.0   \n",
       "5       Aaron Cresswell 1989-12-15         155782 2016-04-21            74.0   \n",
       "38          Aaron Doran 1991-05-13         162549 2016-01-07            65.0   \n",
       "64        Aaron Galindo 1982-05-08          30572 2016-04-21            69.0   \n",
       "112          Aaron Hunt 1986-09-04          27316 2016-04-28            77.0   \n",
       "\n",
       "     potential  \n",
       "0         71.0  \n",
       "5         76.0  \n",
       "38        67.0  \n",
       "64        69.0  \n",
       "112       77.0  "
      ]
     },
     "execution_count": 43,
     "metadata": {},
     "output_type": "execute_result"
    }
   ],
   "source": [
    "sum(df_2016.duplicated(subset = ['player_name']))\n",
    "\n",
    "df_2016.drop_duplicates(subset =['player_name'], inplace=True)\n",
    "df_2016.head()\n"
   ]
  },
  {
   "cell_type": "markdown",
   "metadata": {},
   "source": [
    "Merging the two dataframes on **player_name** and **birthday**"
   ]
  },
  {
   "cell_type": "code",
   "execution_count": 44,
   "metadata": {},
   "outputs": [
    {
     "data": {
      "text/html": [
       "<div>\n",
       "<style scoped>\n",
       "    .dataframe tbody tr th:only-of-type {\n",
       "        vertical-align: middle;\n",
       "    }\n",
       "\n",
       "    .dataframe tbody tr th {\n",
       "        vertical-align: top;\n",
       "    }\n",
       "\n",
       "    .dataframe thead th {\n",
       "        text-align: right;\n",
       "    }\n",
       "</style>\n",
       "<table border=\"1\" class=\"dataframe\">\n",
       "  <thead>\n",
       "    <tr style=\"text-align: right;\">\n",
       "      <th></th>\n",
       "      <th>player_name</th>\n",
       "      <th>birthday</th>\n",
       "      <th>player_api_id</th>\n",
       "      <th>date_x</th>\n",
       "      <th>overall_rating_x</th>\n",
       "      <th>potential_x</th>\n",
       "      <th>date_y</th>\n",
       "      <th>overall_rating_y</th>\n",
       "      <th>potential_y</th>\n",
       "    </tr>\n",
       "  </thead>\n",
       "  <tbody>\n",
       "    <tr>\n",
       "      <th>0</th>\n",
       "      <td>Aaron Appindangoye</td>\n",
       "      <td>1992-02-29</td>\n",
       "      <td>505942</td>\n",
       "      <td>2007-02-22</td>\n",
       "      <td>61.0</td>\n",
       "      <td>65.0</td>\n",
       "      <td>2016-02-18</td>\n",
       "      <td>67.0</td>\n",
       "      <td>71.0</td>\n",
       "    </tr>\n",
       "    <tr>\n",
       "      <th>1</th>\n",
       "      <td>Aaron Cresswell</td>\n",
       "      <td>1989-12-15</td>\n",
       "      <td>155782</td>\n",
       "      <td>2007-02-22</td>\n",
       "      <td>53.0</td>\n",
       "      <td>60.0</td>\n",
       "      <td>2016-04-21</td>\n",
       "      <td>74.0</td>\n",
       "      <td>76.0</td>\n",
       "    </tr>\n",
       "    <tr>\n",
       "      <th>2</th>\n",
       "      <td>Aaron Doran</td>\n",
       "      <td>1991-05-13</td>\n",
       "      <td>162549</td>\n",
       "      <td>2007-02-22</td>\n",
       "      <td>59.0</td>\n",
       "      <td>70.0</td>\n",
       "      <td>2016-01-07</td>\n",
       "      <td>65.0</td>\n",
       "      <td>67.0</td>\n",
       "    </tr>\n",
       "    <tr>\n",
       "      <th>3</th>\n",
       "      <td>Aaron Galindo</td>\n",
       "      <td>1982-05-08</td>\n",
       "      <td>30572</td>\n",
       "      <td>2007-08-30</td>\n",
       "      <td>71.0</td>\n",
       "      <td>78.0</td>\n",
       "      <td>2016-04-21</td>\n",
       "      <td>69.0</td>\n",
       "      <td>69.0</td>\n",
       "    </tr>\n",
       "    <tr>\n",
       "      <th>4</th>\n",
       "      <td>Aaron Hunt</td>\n",
       "      <td>1986-09-04</td>\n",
       "      <td>27316</td>\n",
       "      <td>2007-08-30</td>\n",
       "      <td>77.0</td>\n",
       "      <td>86.0</td>\n",
       "      <td>2016-04-28</td>\n",
       "      <td>77.0</td>\n",
       "      <td>77.0</td>\n",
       "    </tr>\n",
       "  </tbody>\n",
       "</table>\n",
       "</div>"
      ],
      "text/plain": [
       "          player_name   birthday  player_api_id     date_x  overall_rating_x  \\\n",
       "0  Aaron Appindangoye 1992-02-29         505942 2007-02-22              61.0   \n",
       "1     Aaron Cresswell 1989-12-15         155782 2007-02-22              53.0   \n",
       "2         Aaron Doran 1991-05-13         162549 2007-02-22              59.0   \n",
       "3       Aaron Galindo 1982-05-08          30572 2007-08-30              71.0   \n",
       "4          Aaron Hunt 1986-09-04          27316 2007-08-30              77.0   \n",
       "\n",
       "   potential_x     date_y  overall_rating_y  potential_y  \n",
       "0         65.0 2016-02-18              67.0         71.0  \n",
       "1         60.0 2016-04-21              74.0         76.0  \n",
       "2         70.0 2016-01-07              65.0         67.0  \n",
       "3         78.0 2016-04-21              69.0         69.0  \n",
       "4         86.0 2016-04-28              77.0         77.0  "
      ]
     },
     "execution_count": 44,
     "metadata": {},
     "output_type": "execute_result"
    }
   ],
   "source": [
    "df_potential = df_2007.merge(df_2016, how= 'inner', on= ['player_name','birthday','player_api_id'])\n",
    "df_potential.head()"
   ]
  },
  {
   "cell_type": "markdown",
   "metadata": {},
   "source": [
    "Creating a **meet_potential** column to know if the players met their potential or not <br>\n",
    "Creating a column to know how much the player has improved called **improvement**"
   ]
  },
  {
   "cell_type": "code",
   "execution_count": 45,
   "metadata": {},
   "outputs": [
    {
     "data": {
      "text/html": [
       "<div>\n",
       "<style scoped>\n",
       "    .dataframe tbody tr th:only-of-type {\n",
       "        vertical-align: middle;\n",
       "    }\n",
       "\n",
       "    .dataframe tbody tr th {\n",
       "        vertical-align: top;\n",
       "    }\n",
       "\n",
       "    .dataframe thead th {\n",
       "        text-align: right;\n",
       "    }\n",
       "</style>\n",
       "<table border=\"1\" class=\"dataframe\">\n",
       "  <thead>\n",
       "    <tr style=\"text-align: right;\">\n",
       "      <th></th>\n",
       "      <th>player_name</th>\n",
       "      <th>birthday</th>\n",
       "      <th>player_api_id</th>\n",
       "      <th>date_x</th>\n",
       "      <th>overall_rating_x</th>\n",
       "      <th>potential_x</th>\n",
       "      <th>date_y</th>\n",
       "      <th>overall_rating_y</th>\n",
       "      <th>potential_y</th>\n",
       "      <th>meet_potential</th>\n",
       "      <th>improvement</th>\n",
       "    </tr>\n",
       "  </thead>\n",
       "  <tbody>\n",
       "    <tr>\n",
       "      <th>0</th>\n",
       "      <td>Aaron Appindangoye</td>\n",
       "      <td>1992-02-29</td>\n",
       "      <td>505942</td>\n",
       "      <td>2007-02-22</td>\n",
       "      <td>61.0</td>\n",
       "      <td>65.0</td>\n",
       "      <td>2016-02-18</td>\n",
       "      <td>67.0</td>\n",
       "      <td>71.0</td>\n",
       "      <td>True</td>\n",
       "      <td>6.0</td>\n",
       "    </tr>\n",
       "    <tr>\n",
       "      <th>1</th>\n",
       "      <td>Aaron Cresswell</td>\n",
       "      <td>1989-12-15</td>\n",
       "      <td>155782</td>\n",
       "      <td>2007-02-22</td>\n",
       "      <td>53.0</td>\n",
       "      <td>60.0</td>\n",
       "      <td>2016-04-21</td>\n",
       "      <td>74.0</td>\n",
       "      <td>76.0</td>\n",
       "      <td>True</td>\n",
       "      <td>21.0</td>\n",
       "    </tr>\n",
       "    <tr>\n",
       "      <th>2</th>\n",
       "      <td>Aaron Doran</td>\n",
       "      <td>1991-05-13</td>\n",
       "      <td>162549</td>\n",
       "      <td>2007-02-22</td>\n",
       "      <td>59.0</td>\n",
       "      <td>70.0</td>\n",
       "      <td>2016-01-07</td>\n",
       "      <td>65.0</td>\n",
       "      <td>67.0</td>\n",
       "      <td>False</td>\n",
       "      <td>6.0</td>\n",
       "    </tr>\n",
       "    <tr>\n",
       "      <th>3</th>\n",
       "      <td>Aaron Galindo</td>\n",
       "      <td>1982-05-08</td>\n",
       "      <td>30572</td>\n",
       "      <td>2007-08-30</td>\n",
       "      <td>71.0</td>\n",
       "      <td>78.0</td>\n",
       "      <td>2016-04-21</td>\n",
       "      <td>69.0</td>\n",
       "      <td>69.0</td>\n",
       "      <td>False</td>\n",
       "      <td>-2.0</td>\n",
       "    </tr>\n",
       "    <tr>\n",
       "      <th>4</th>\n",
       "      <td>Aaron Hunt</td>\n",
       "      <td>1986-09-04</td>\n",
       "      <td>27316</td>\n",
       "      <td>2007-08-30</td>\n",
       "      <td>77.0</td>\n",
       "      <td>86.0</td>\n",
       "      <td>2016-04-28</td>\n",
       "      <td>77.0</td>\n",
       "      <td>77.0</td>\n",
       "      <td>False</td>\n",
       "      <td>0.0</td>\n",
       "    </tr>\n",
       "  </tbody>\n",
       "</table>\n",
       "</div>"
      ],
      "text/plain": [
       "          player_name   birthday  player_api_id     date_x  overall_rating_x  \\\n",
       "0  Aaron Appindangoye 1992-02-29         505942 2007-02-22              61.0   \n",
       "1     Aaron Cresswell 1989-12-15         155782 2007-02-22              53.0   \n",
       "2         Aaron Doran 1991-05-13         162549 2007-02-22              59.0   \n",
       "3       Aaron Galindo 1982-05-08          30572 2007-08-30              71.0   \n",
       "4          Aaron Hunt 1986-09-04          27316 2007-08-30              77.0   \n",
       "\n",
       "   potential_x     date_y  overall_rating_y  potential_y  meet_potential  \\\n",
       "0         65.0 2016-02-18              67.0         71.0            True   \n",
       "1         60.0 2016-04-21              74.0         76.0            True   \n",
       "2         70.0 2016-01-07              65.0         67.0           False   \n",
       "3         78.0 2016-04-21              69.0         69.0           False   \n",
       "4         86.0 2016-04-28              77.0         77.0           False   \n",
       "\n",
       "   improvement  \n",
       "0          6.0  \n",
       "1         21.0  \n",
       "2          6.0  \n",
       "3         -2.0  \n",
       "4          0.0  "
      ]
     },
     "execution_count": 45,
     "metadata": {},
     "output_type": "execute_result"
    }
   ],
   "source": [
    "df_potential = df_potential.assign(meet_potential = lambda x:x.overall_rating_y >= x.potential_x, improvement = lambda x:x.overall_rating_y - x.overall_rating_x )\n",
    "df_potential.head()"
   ]
  },
  {
   "cell_type": "markdown",
   "metadata": {},
   "source": [
    "Grouping by **meet_potential** to know the amount of players that did "
   ]
  },
  {
   "cell_type": "code",
   "execution_count": 46,
   "metadata": {},
   "outputs": [
    {
     "data": {
      "text/plain": [
       "meet_potential\n",
       "False    3278\n",
       "True     2225\n",
       "Name: birthday, dtype: int64"
      ]
     },
     "execution_count": 46,
     "metadata": {},
     "output_type": "execute_result"
    }
   ],
   "source": [
    "df_potential.groupby('meet_potential').count()['birthday']"
   ]
  },
  {
   "cell_type": "markdown",
   "metadata": {},
   "source": [
    "Get percentage of players that meet potential"
   ]
  },
  {
   "cell_type": "code",
   "execution_count": 47,
   "metadata": {},
   "outputs": [
    {
     "data": {
      "text/plain": [
       "meet_potential\n",
       "False    59.567509\n",
       "True     40.432491\n",
       "Name: birthday, dtype: float64"
      ]
     },
     "execution_count": 47,
     "metadata": {},
     "output_type": "execute_result"
    }
   ],
   "source": [
    "df_potential.groupby('meet_potential').count()['birthday']/df_potential.count()['player_name'] * 100"
   ]
  },
  {
   "cell_type": "markdown",
   "metadata": {},
   "source": [
    "Player that improved the most "
   ]
  },
  {
   "cell_type": "code",
   "execution_count": 48,
   "metadata": {},
   "outputs": [
    {
     "data": {
      "text/html": [
       "<div>\n",
       "<style scoped>\n",
       "    .dataframe tbody tr th:only-of-type {\n",
       "        vertical-align: middle;\n",
       "    }\n",
       "\n",
       "    .dataframe tbody tr th {\n",
       "        vertical-align: top;\n",
       "    }\n",
       "\n",
       "    .dataframe thead th {\n",
       "        text-align: right;\n",
       "    }\n",
       "</style>\n",
       "<table border=\"1\" class=\"dataframe\">\n",
       "  <thead>\n",
       "    <tr style=\"text-align: right;\">\n",
       "      <th></th>\n",
       "      <th>player_name</th>\n",
       "      <th>birthday</th>\n",
       "      <th>player_api_id</th>\n",
       "      <th>date_x</th>\n",
       "      <th>overall_rating_x</th>\n",
       "      <th>potential_x</th>\n",
       "      <th>date_y</th>\n",
       "      <th>overall_rating_y</th>\n",
       "      <th>potential_y</th>\n",
       "      <th>meet_potential</th>\n",
       "      <th>improvement</th>\n",
       "    </tr>\n",
       "  </thead>\n",
       "  <tbody>\n",
       "    <tr>\n",
       "      <th>3313</th>\n",
       "      <td>Marco Reus</td>\n",
       "      <td>1989-05-31</td>\n",
       "      <td>129944</td>\n",
       "      <td>2007-02-22</td>\n",
       "      <td>44.0</td>\n",
       "      <td>62.0</td>\n",
       "      <td>2016-06-02</td>\n",
       "      <td>86.0</td>\n",
       "      <td>87.0</td>\n",
       "      <td>True</td>\n",
       "      <td>42.0</td>\n",
       "    </tr>\n",
       "    <tr>\n",
       "      <th>1397</th>\n",
       "      <td>Eden Hazard</td>\n",
       "      <td>1991-01-07</td>\n",
       "      <td>107417</td>\n",
       "      <td>2007-02-22</td>\n",
       "      <td>51.0</td>\n",
       "      <td>80.0</td>\n",
       "      <td>2016-01-28</td>\n",
       "      <td>88.0</td>\n",
       "      <td>90.0</td>\n",
       "      <td>True</td>\n",
       "      <td>37.0</td>\n",
       "    </tr>\n",
       "    <tr>\n",
       "      <th>566</th>\n",
       "      <td>Bakary Sako</td>\n",
       "      <td>1988-04-26</td>\n",
       "      <td>46417</td>\n",
       "      <td>2007-08-30</td>\n",
       "      <td>38.0</td>\n",
       "      <td>47.0</td>\n",
       "      <td>2016-03-24</td>\n",
       "      <td>75.0</td>\n",
       "      <td>75.0</td>\n",
       "      <td>True</td>\n",
       "      <td>37.0</td>\n",
       "    </tr>\n",
       "    <tr>\n",
       "      <th>4318</th>\n",
       "      <td>Radja Nainggolan</td>\n",
       "      <td>1988-05-04</td>\n",
       "      <td>41433</td>\n",
       "      <td>2007-08-30</td>\n",
       "      <td>46.0</td>\n",
       "      <td>61.0</td>\n",
       "      <td>2016-05-12</td>\n",
       "      <td>83.0</td>\n",
       "      <td>83.0</td>\n",
       "      <td>True</td>\n",
       "      <td>37.0</td>\n",
       "    </tr>\n",
       "    <tr>\n",
       "      <th>4442</th>\n",
       "      <td>Ricardo Rodriguez</td>\n",
       "      <td>1992-08-25</td>\n",
       "      <td>115591</td>\n",
       "      <td>2007-02-22</td>\n",
       "      <td>45.0</td>\n",
       "      <td>65.0</td>\n",
       "      <td>2016-02-25</td>\n",
       "      <td>82.0</td>\n",
       "      <td>86.0</td>\n",
       "      <td>True</td>\n",
       "      <td>37.0</td>\n",
       "    </tr>\n",
       "  </tbody>\n",
       "</table>\n",
       "</div>"
      ],
      "text/plain": [
       "            player_name   birthday  player_api_id     date_x  \\\n",
       "3313         Marco Reus 1989-05-31         129944 2007-02-22   \n",
       "1397        Eden Hazard 1991-01-07         107417 2007-02-22   \n",
       "566         Bakary Sako 1988-04-26          46417 2007-08-30   \n",
       "4318   Radja Nainggolan 1988-05-04          41433 2007-08-30   \n",
       "4442  Ricardo Rodriguez 1992-08-25         115591 2007-02-22   \n",
       "\n",
       "      overall_rating_x  potential_x     date_y  overall_rating_y  potential_y  \\\n",
       "3313              44.0         62.0 2016-06-02              86.0         87.0   \n",
       "1397              51.0         80.0 2016-01-28              88.0         90.0   \n",
       "566               38.0         47.0 2016-03-24              75.0         75.0   \n",
       "4318              46.0         61.0 2016-05-12              83.0         83.0   \n",
       "4442              45.0         65.0 2016-02-25              82.0         86.0   \n",
       "\n",
       "      meet_potential  improvement  \n",
       "3313            True         42.0  \n",
       "1397            True         37.0  \n",
       "566             True         37.0  \n",
       "4318            True         37.0  \n",
       "4442            True         37.0  "
      ]
     },
     "execution_count": 48,
     "metadata": {},
     "output_type": "execute_result"
    }
   ],
   "source": [
    "df_potential.sort_values('improvement', ascending = False).head()"
   ]
  },
  {
   "cell_type": "markdown",
   "metadata": {},
   "source": [
    "To know if players age in 2007 influened the players improvement, another column called **age** will be added "
   ]
  },
  {
   "cell_type": "code",
   "execution_count": 49,
   "metadata": {},
   "outputs": [],
   "source": [
    "df_potential = df_potential.assign(age = lambda x: 2007 - x.birthday.dt.year)"
   ]
  },
  {
   "cell_type": "code",
   "execution_count": 50,
   "metadata": {},
   "outputs": [
    {
     "data": {
      "text/html": [
       "<div>\n",
       "<style scoped>\n",
       "    .dataframe tbody tr th:only-of-type {\n",
       "        vertical-align: middle;\n",
       "    }\n",
       "\n",
       "    .dataframe tbody tr th {\n",
       "        vertical-align: top;\n",
       "    }\n",
       "\n",
       "    .dataframe thead th {\n",
       "        text-align: right;\n",
       "    }\n",
       "</style>\n",
       "<table border=\"1\" class=\"dataframe\">\n",
       "  <thead>\n",
       "    <tr style=\"text-align: right;\">\n",
       "      <th></th>\n",
       "      <th>player_api_id</th>\n",
       "      <th>overall_rating_x</th>\n",
       "      <th>potential_x</th>\n",
       "      <th>overall_rating_y</th>\n",
       "      <th>potential_y</th>\n",
       "      <th>improvement</th>\n",
       "      <th>age</th>\n",
       "    </tr>\n",
       "  </thead>\n",
       "  <tbody>\n",
       "    <tr>\n",
       "      <th>count</th>\n",
       "      <td>5503.000000</td>\n",
       "      <td>5503.000000</td>\n",
       "      <td>5503.000000</td>\n",
       "      <td>5503.000000</td>\n",
       "      <td>5503.000000</td>\n",
       "      <td>5503.000000</td>\n",
       "      <td>5503.000000</td>\n",
       "    </tr>\n",
       "    <tr>\n",
       "      <th>mean</th>\n",
       "      <td>197717.099400</td>\n",
       "      <td>62.204434</td>\n",
       "      <td>71.922951</td>\n",
       "      <td>70.000182</td>\n",
       "      <td>73.028893</td>\n",
       "      <td>7.795748</td>\n",
       "      <td>18.151009</td>\n",
       "    </tr>\n",
       "    <tr>\n",
       "      <th>std</th>\n",
       "      <td>176578.333293</td>\n",
       "      <td>8.079587</td>\n",
       "      <td>7.602413</td>\n",
       "      <td>6.088273</td>\n",
       "      <td>5.980831</td>\n",
       "      <td>8.035888</td>\n",
       "      <td>4.390961</td>\n",
       "    </tr>\n",
       "    <tr>\n",
       "      <th>min</th>\n",
       "      <td>2768.000000</td>\n",
       "      <td>35.000000</td>\n",
       "      <td>39.000000</td>\n",
       "      <td>47.000000</td>\n",
       "      <td>54.000000</td>\n",
       "      <td>-20.000000</td>\n",
       "      <td>8.000000</td>\n",
       "    </tr>\n",
       "    <tr>\n",
       "      <th>25%</th>\n",
       "      <td>41117.500000</td>\n",
       "      <td>57.000000</td>\n",
       "      <td>67.000000</td>\n",
       "      <td>66.000000</td>\n",
       "      <td>69.000000</td>\n",
       "      <td>2.000000</td>\n",
       "      <td>15.000000</td>\n",
       "    </tr>\n",
       "    <tr>\n",
       "      <th>50%</th>\n",
       "      <td>158278.000000</td>\n",
       "      <td>62.000000</td>\n",
       "      <td>72.000000</td>\n",
       "      <td>70.000000</td>\n",
       "      <td>73.000000</td>\n",
       "      <td>7.000000</td>\n",
       "      <td>18.000000</td>\n",
       "    </tr>\n",
       "    <tr>\n",
       "      <th>75%</th>\n",
       "      <td>281845.500000</td>\n",
       "      <td>67.000000</td>\n",
       "      <td>77.000000</td>\n",
       "      <td>74.000000</td>\n",
       "      <td>77.000000</td>\n",
       "      <td>13.000000</td>\n",
       "      <td>21.000000</td>\n",
       "    </tr>\n",
       "    <tr>\n",
       "      <th>max</th>\n",
       "      <td>750584.000000</td>\n",
       "      <td>91.000000</td>\n",
       "      <td>93.000000</td>\n",
       "      <td>90.000000</td>\n",
       "      <td>94.000000</td>\n",
       "      <td>42.000000</td>\n",
       "      <td>35.000000</td>\n",
       "    </tr>\n",
       "  </tbody>\n",
       "</table>\n",
       "</div>"
      ],
      "text/plain": [
       "       player_api_id  overall_rating_x  potential_x  overall_rating_y  \\\n",
       "count    5503.000000       5503.000000  5503.000000       5503.000000   \n",
       "mean   197717.099400         62.204434    71.922951         70.000182   \n",
       "std    176578.333293          8.079587     7.602413          6.088273   \n",
       "min      2768.000000         35.000000    39.000000         47.000000   \n",
       "25%     41117.500000         57.000000    67.000000         66.000000   \n",
       "50%    158278.000000         62.000000    72.000000         70.000000   \n",
       "75%    281845.500000         67.000000    77.000000         74.000000   \n",
       "max    750584.000000         91.000000    93.000000         90.000000   \n",
       "\n",
       "       potential_y  improvement          age  \n",
       "count  5503.000000  5503.000000  5503.000000  \n",
       "mean     73.028893     7.795748    18.151009  \n",
       "std       5.980831     8.035888     4.390961  \n",
       "min      54.000000   -20.000000     8.000000  \n",
       "25%      69.000000     2.000000    15.000000  \n",
       "50%      73.000000     7.000000    18.000000  \n",
       "75%      77.000000    13.000000    21.000000  \n",
       "max      94.000000    42.000000    35.000000  "
      ]
     },
     "execution_count": 50,
     "metadata": {},
     "output_type": "execute_result"
    }
   ],
   "source": [
    "df_potential.describe()"
   ]
  },
  {
   "cell_type": "markdown",
   "metadata": {},
   "source": [
    "<a id = 'q4'></a>\n",
    "Making a scatterplot to show the findings "
   ]
  },
  {
   "cell_type": "code",
   "execution_count": 51,
   "metadata": {
    "scrolled": true
   },
   "outputs": [
    {
     "data": {
      "text/plain": [
       "Text(0, 0.5, 'Improvement')"
      ]
     },
     "execution_count": 51,
     "metadata": {},
     "output_type": "execute_result"
    },
    {
     "data": {
      "image/png": "[encoded data removed]",
      "text/plain": [
       "<Figure size 720x576 with 1 Axes>"
      ]
     },
     "metadata": {
      "needs_background": "light"
     },
     "output_type": "display_data"
    }
   ],
   "source": [
    "plt.figure(figsize =(10,8))\n",
    "plt.scatter(df_potential['age'],df_potential['improvement'])\n",
    "plt.title(\"Player's age vs improvement\", fontsize = 16 )\n",
    "plt.xlabel('Ages',fontsize = 15)\n",
    "plt.ylabel('Improvement',fontsize = 15)"
   ]
  },
  {
   "cell_type": "markdown",
   "metadata": {},
   "source": [
    "The scatter plot was used because the variables being considered are both quantitative data and a x-axis value could be \n",
    "connected to multiple values in the y-axis.<br>\n",
    "The players who improved the most were between ages 15 and 20"
   ]
  },
  {
   "cell_type": "markdown",
   "metadata": {},
   "source": [
    "## Research Question 5: Team attribute leading to victory"
   ]
  },
  {
   "cell_type": "markdown",
   "metadata": {},
   "source": [
    "To answer this question i will use the following dataframes\n",
    "><li>df_1\n",
    " <li>df_3"
   ]
  },
  {
   "cell_type": "code",
   "execution_count": 52,
   "metadata": {
    "scrolled": true
   },
   "outputs": [
    {
     "data": {
      "text/html": [
       "<div>\n",
       "<style scoped>\n",
       "    .dataframe tbody tr th:only-of-type {\n",
       "        vertical-align: middle;\n",
       "    }\n",
       "\n",
       "    .dataframe tbody tr th {\n",
       "        vertical-align: top;\n",
       "    }\n",
       "\n",
       "    .dataframe thead th {\n",
       "        text-align: right;\n",
       "    }\n",
       "</style>\n",
       "<table border=\"1\" class=\"dataframe\">\n",
       "  <thead>\n",
       "    <tr style=\"text-align: right;\">\n",
       "      <th></th>\n",
       "      <th>id</th>\n",
       "      <th>league_name</th>\n",
       "      <th>season</th>\n",
       "      <th>date</th>\n",
       "      <th>home_team_goal</th>\n",
       "      <th>away_team_goal</th>\n",
       "      <th>home_team</th>\n",
       "      <th>away_team</th>\n",
       "      <th>total_goals</th>\n",
       "      <th>outcome</th>\n",
       "    </tr>\n",
       "  </thead>\n",
       "  <tbody>\n",
       "    <tr>\n",
       "      <th>0</th>\n",
       "      <td>1</td>\n",
       "      <td>Belgium Jupiler League</td>\n",
       "      <td>2008/2009</td>\n",
       "      <td>2008-08-17</td>\n",
       "      <td>1</td>\n",
       "      <td>1</td>\n",
       "      <td>KRC Genk</td>\n",
       "      <td>Beerschot AC</td>\n",
       "      <td>2</td>\n",
       "      <td>D</td>\n",
       "    </tr>\n",
       "    <tr>\n",
       "      <th>1</th>\n",
       "      <td>1</td>\n",
       "      <td>Belgium Jupiler League</td>\n",
       "      <td>2008/2009</td>\n",
       "      <td>2008-08-16</td>\n",
       "      <td>0</td>\n",
       "      <td>0</td>\n",
       "      <td>SV Zulte-Waregem</td>\n",
       "      <td>Sporting Lokeren</td>\n",
       "      <td>0</td>\n",
       "      <td>D</td>\n",
       "    </tr>\n",
       "    <tr>\n",
       "      <th>2</th>\n",
       "      <td>1</td>\n",
       "      <td>Belgium Jupiler League</td>\n",
       "      <td>2008/2009</td>\n",
       "      <td>2008-08-16</td>\n",
       "      <td>0</td>\n",
       "      <td>3</td>\n",
       "      <td>KSV Cercle Brugge</td>\n",
       "      <td>RSC Anderlecht</td>\n",
       "      <td>3</td>\n",
       "      <td>W2</td>\n",
       "    </tr>\n",
       "    <tr>\n",
       "      <th>3</th>\n",
       "      <td>1</td>\n",
       "      <td>Belgium Jupiler League</td>\n",
       "      <td>2008/2009</td>\n",
       "      <td>2008-08-17</td>\n",
       "      <td>5</td>\n",
       "      <td>0</td>\n",
       "      <td>KAA Gent</td>\n",
       "      <td>RAEC Mons</td>\n",
       "      <td>5</td>\n",
       "      <td>W1</td>\n",
       "    </tr>\n",
       "    <tr>\n",
       "      <th>4</th>\n",
       "      <td>1</td>\n",
       "      <td>Belgium Jupiler League</td>\n",
       "      <td>2008/2009</td>\n",
       "      <td>2008-08-16</td>\n",
       "      <td>1</td>\n",
       "      <td>3</td>\n",
       "      <td>FCV Dender EH</td>\n",
       "      <td>Standard de Liège</td>\n",
       "      <td>4</td>\n",
       "      <td>W2</td>\n",
       "    </tr>\n",
       "  </tbody>\n",
       "</table>\n",
       "</div>"
      ],
      "text/plain": [
       "   id             league_name     season       date  home_team_goal  \\\n",
       "0   1  Belgium Jupiler League  2008/2009 2008-08-17               1   \n",
       "1   1  Belgium Jupiler League  2008/2009 2008-08-16               0   \n",
       "2   1  Belgium Jupiler League  2008/2009 2008-08-16               0   \n",
       "3   1  Belgium Jupiler League  2008/2009 2008-08-17               5   \n",
       "4   1  Belgium Jupiler League  2008/2009 2008-08-16               1   \n",
       "\n",
       "   away_team_goal          home_team          away_team  total_goals outcome  \n",
       "0               1           KRC Genk       Beerschot AC            2       D  \n",
       "1               0   SV Zulte-Waregem   Sporting Lokeren            0       D  \n",
       "2               3  KSV Cercle Brugge     RSC Anderlecht            3      W2  \n",
       "3               0           KAA Gent          RAEC Mons            5      W1  \n",
       "4               3      FCV Dender EH  Standard de Liège            4      W2  "
      ]
     },
     "execution_count": 52,
     "metadata": {},
     "output_type": "execute_result"
    }
   ],
   "source": [
    "df_1.head()"
   ]
  },
  {
   "cell_type": "code",
   "execution_count": 53,
   "metadata": {},
   "outputs": [
    {
     "data": {
      "text/html": [
       "<div>\n",
       "<style scoped>\n",
       "    .dataframe tbody tr th:only-of-type {\n",
       "        vertical-align: middle;\n",
       "    }\n",
       "\n",
       "    .dataframe tbody tr th {\n",
       "        vertical-align: top;\n",
       "    }\n",
       "\n",
       "    .dataframe thead th {\n",
       "        text-align: right;\n",
       "    }\n",
       "</style>\n",
       "<table border=\"1\" class=\"dataframe\">\n",
       "  <thead>\n",
       "    <tr style=\"text-align: right;\">\n",
       "      <th></th>\n",
       "      <th>team_long_name</th>\n",
       "      <th>team_api_id</th>\n",
       "      <th>date</th>\n",
       "      <th>buildupplayspeed</th>\n",
       "      <th>chancecreationshootingclass</th>\n",
       "      <th>defencepressure</th>\n",
       "    </tr>\n",
       "  </thead>\n",
       "  <tbody>\n",
       "    <tr>\n",
       "      <th>0</th>\n",
       "      <td>FC Aarau</td>\n",
       "      <td>9930</td>\n",
       "      <td>2016-02-18</td>\n",
       "      <td>60</td>\n",
       "      <td>Normal</td>\n",
       "      <td>50</td>\n",
       "    </tr>\n",
       "    <tr>\n",
       "      <th>1</th>\n",
       "      <td>FC Aarau</td>\n",
       "      <td>9930</td>\n",
       "      <td>2015-11-19</td>\n",
       "      <td>52</td>\n",
       "      <td>Normal</td>\n",
       "      <td>47</td>\n",
       "    </tr>\n",
       "    <tr>\n",
       "      <th>2</th>\n",
       "      <td>FC Aarau</td>\n",
       "      <td>9930</td>\n",
       "      <td>2015-09-21</td>\n",
       "      <td>47</td>\n",
       "      <td>Normal</td>\n",
       "      <td>47</td>\n",
       "    </tr>\n",
       "    <tr>\n",
       "      <th>3</th>\n",
       "      <td>Aberdeen</td>\n",
       "      <td>8485</td>\n",
       "      <td>2015-03-20</td>\n",
       "      <td>70</td>\n",
       "      <td>Lots</td>\n",
       "      <td>60</td>\n",
       "    </tr>\n",
       "    <tr>\n",
       "      <th>4</th>\n",
       "      <td>Aberdeen</td>\n",
       "      <td>8485</td>\n",
       "      <td>2007-02-22</td>\n",
       "      <td>47</td>\n",
       "      <td>Normal</td>\n",
       "      <td>47</td>\n",
       "    </tr>\n",
       "  </tbody>\n",
       "</table>\n",
       "</div>"
      ],
      "text/plain": [
       "  team_long_name  team_api_id       date  buildupplayspeed  \\\n",
       "0       FC Aarau         9930 2016-02-18                60   \n",
       "1       FC Aarau         9930 2015-11-19                52   \n",
       "2       FC Aarau         9930 2015-09-21                47   \n",
       "3       Aberdeen         8485 2015-03-20                70   \n",
       "4       Aberdeen         8485 2007-02-22                47   \n",
       "\n",
       "  chancecreationshootingclass  defencepressure  \n",
       "0                      Normal               50  \n",
       "1                      Normal               47  \n",
       "2                      Normal               47  \n",
       "3                        Lots               60  \n",
       "4                      Normal               47  "
      ]
     },
     "execution_count": 53,
     "metadata": {},
     "output_type": "execute_result"
    }
   ],
   "source": [
    "df_3.head()"
   ]
  },
  {
   "cell_type": "markdown",
   "metadata": {},
   "source": [
    "To make use of this data i have to make some modiffications which includes:\n",
    "<br><li>Adding a **year** column to both dataframes\n",
    "    <li>Make sure a team has only 1 row per year in **df_3**\n",
    "    <li>Changing the **outcome** column in **df_1** to show W/D/L"
   ]
  },
  {
   "cell_type": "code",
   "execution_count": 54,
   "metadata": {},
   "outputs": [
    {
     "data": {
      "text/html": [
       "<div>\n",
       "<style scoped>\n",
       "    .dataframe tbody tr th:only-of-type {\n",
       "        vertical-align: middle;\n",
       "    }\n",
       "\n",
       "    .dataframe tbody tr th {\n",
       "        vertical-align: top;\n",
       "    }\n",
       "\n",
       "    .dataframe thead th {\n",
       "        text-align: right;\n",
       "    }\n",
       "</style>\n",
       "<table border=\"1\" class=\"dataframe\">\n",
       "  <thead>\n",
       "    <tr style=\"text-align: right;\">\n",
       "      <th></th>\n",
       "      <th>id</th>\n",
       "      <th>league_name</th>\n",
       "      <th>season</th>\n",
       "      <th>date</th>\n",
       "      <th>home_team_goal</th>\n",
       "      <th>away_team_goal</th>\n",
       "      <th>home_team</th>\n",
       "      <th>away_team</th>\n",
       "      <th>total_goals</th>\n",
       "      <th>outcome</th>\n",
       "      <th>year</th>\n",
       "    </tr>\n",
       "  </thead>\n",
       "  <tbody>\n",
       "    <tr>\n",
       "      <th>0</th>\n",
       "      <td>1</td>\n",
       "      <td>Belgium Jupiler League</td>\n",
       "      <td>2008/2009</td>\n",
       "      <td>2008-08-17</td>\n",
       "      <td>1</td>\n",
       "      <td>1</td>\n",
       "      <td>KRC Genk</td>\n",
       "      <td>Beerschot AC</td>\n",
       "      <td>2</td>\n",
       "      <td>D</td>\n",
       "      <td>2008</td>\n",
       "    </tr>\n",
       "    <tr>\n",
       "      <th>1</th>\n",
       "      <td>1</td>\n",
       "      <td>Belgium Jupiler League</td>\n",
       "      <td>2008/2009</td>\n",
       "      <td>2008-08-16</td>\n",
       "      <td>0</td>\n",
       "      <td>0</td>\n",
       "      <td>SV Zulte-Waregem</td>\n",
       "      <td>Sporting Lokeren</td>\n",
       "      <td>0</td>\n",
       "      <td>D</td>\n",
       "      <td>2008</td>\n",
       "    </tr>\n",
       "    <tr>\n",
       "      <th>2</th>\n",
       "      <td>1</td>\n",
       "      <td>Belgium Jupiler League</td>\n",
       "      <td>2008/2009</td>\n",
       "      <td>2008-08-16</td>\n",
       "      <td>0</td>\n",
       "      <td>3</td>\n",
       "      <td>KSV Cercle Brugge</td>\n",
       "      <td>RSC Anderlecht</td>\n",
       "      <td>3</td>\n",
       "      <td>W2</td>\n",
       "      <td>2008</td>\n",
       "    </tr>\n",
       "    <tr>\n",
       "      <th>3</th>\n",
       "      <td>1</td>\n",
       "      <td>Belgium Jupiler League</td>\n",
       "      <td>2008/2009</td>\n",
       "      <td>2008-08-17</td>\n",
       "      <td>5</td>\n",
       "      <td>0</td>\n",
       "      <td>KAA Gent</td>\n",
       "      <td>RAEC Mons</td>\n",
       "      <td>5</td>\n",
       "      <td>W1</td>\n",
       "      <td>2008</td>\n",
       "    </tr>\n",
       "    <tr>\n",
       "      <th>4</th>\n",
       "      <td>1</td>\n",
       "      <td>Belgium Jupiler League</td>\n",
       "      <td>2008/2009</td>\n",
       "      <td>2008-08-16</td>\n",
       "      <td>1</td>\n",
       "      <td>3</td>\n",
       "      <td>FCV Dender EH</td>\n",
       "      <td>Standard de Liège</td>\n",
       "      <td>4</td>\n",
       "      <td>W2</td>\n",
       "      <td>2008</td>\n",
       "    </tr>\n",
       "  </tbody>\n",
       "</table>\n",
       "</div>"
      ],
      "text/plain": [
       "   id             league_name     season       date  home_team_goal  \\\n",
       "0   1  Belgium Jupiler League  2008/2009 2008-08-17               1   \n",
       "1   1  Belgium Jupiler League  2008/2009 2008-08-16               0   \n",
       "2   1  Belgium Jupiler League  2008/2009 2008-08-16               0   \n",
       "3   1  Belgium Jupiler League  2008/2009 2008-08-17               5   \n",
       "4   1  Belgium Jupiler League  2008/2009 2008-08-16               1   \n",
       "\n",
       "   away_team_goal          home_team          away_team  total_goals outcome  \\\n",
       "0               1           KRC Genk       Beerschot AC            2       D   \n",
       "1               0   SV Zulte-Waregem   Sporting Lokeren            0       D   \n",
       "2               3  KSV Cercle Brugge     RSC Anderlecht            3      W2   \n",
       "3               0           KAA Gent          RAEC Mons            5      W1   \n",
       "4               3      FCV Dender EH  Standard de Liège            4      W2   \n",
       "\n",
       "   year  \n",
       "0  2008  \n",
       "1  2008  \n",
       "2  2008  \n",
       "3  2008  \n",
       "4  2008  "
      ]
     },
     "execution_count": 54,
     "metadata": {},
     "output_type": "execute_result"
    }
   ],
   "source": [
    "df_ta1 = df_1.assign(year = lambda x: x.date.dt.year) \n",
    "df_ta1.head()"
   ]
  },
  {
   "cell_type": "code",
   "execution_count": 55,
   "metadata": {},
   "outputs": [
    {
     "data": {
      "text/html": [
       "<div>\n",
       "<style scoped>\n",
       "    .dataframe tbody tr th:only-of-type {\n",
       "        vertical-align: middle;\n",
       "    }\n",
       "\n",
       "    .dataframe tbody tr th {\n",
       "        vertical-align: top;\n",
       "    }\n",
       "\n",
       "    .dataframe thead th {\n",
       "        text-align: right;\n",
       "    }\n",
       "</style>\n",
       "<table border=\"1\" class=\"dataframe\">\n",
       "  <thead>\n",
       "    <tr style=\"text-align: right;\">\n",
       "      <th></th>\n",
       "      <th>team_long_name</th>\n",
       "      <th>team_api_id</th>\n",
       "      <th>date</th>\n",
       "      <th>buildupplayspeed</th>\n",
       "      <th>chancecreationshootingclass</th>\n",
       "      <th>defencepressure</th>\n",
       "      <th>year</th>\n",
       "    </tr>\n",
       "  </thead>\n",
       "  <tbody>\n",
       "    <tr>\n",
       "      <th>0</th>\n",
       "      <td>FC Aarau</td>\n",
       "      <td>9930</td>\n",
       "      <td>2016-02-18</td>\n",
       "      <td>60</td>\n",
       "      <td>Normal</td>\n",
       "      <td>50</td>\n",
       "      <td>2016</td>\n",
       "    </tr>\n",
       "    <tr>\n",
       "      <th>1</th>\n",
       "      <td>FC Aarau</td>\n",
       "      <td>9930</td>\n",
       "      <td>2015-11-19</td>\n",
       "      <td>52</td>\n",
       "      <td>Normal</td>\n",
       "      <td>47</td>\n",
       "      <td>2015</td>\n",
       "    </tr>\n",
       "    <tr>\n",
       "      <th>2</th>\n",
       "      <td>FC Aarau</td>\n",
       "      <td>9930</td>\n",
       "      <td>2015-09-21</td>\n",
       "      <td>47</td>\n",
       "      <td>Normal</td>\n",
       "      <td>47</td>\n",
       "      <td>2015</td>\n",
       "    </tr>\n",
       "    <tr>\n",
       "      <th>3</th>\n",
       "      <td>Aberdeen</td>\n",
       "      <td>8485</td>\n",
       "      <td>2015-03-20</td>\n",
       "      <td>70</td>\n",
       "      <td>Lots</td>\n",
       "      <td>60</td>\n",
       "      <td>2015</td>\n",
       "    </tr>\n",
       "    <tr>\n",
       "      <th>4</th>\n",
       "      <td>Aberdeen</td>\n",
       "      <td>8485</td>\n",
       "      <td>2007-02-22</td>\n",
       "      <td>47</td>\n",
       "      <td>Normal</td>\n",
       "      <td>47</td>\n",
       "      <td>2007</td>\n",
       "    </tr>\n",
       "  </tbody>\n",
       "</table>\n",
       "</div>"
      ],
      "text/plain": [
       "  team_long_name  team_api_id       date  buildupplayspeed  \\\n",
       "0       FC Aarau         9930 2016-02-18                60   \n",
       "1       FC Aarau         9930 2015-11-19                52   \n",
       "2       FC Aarau         9930 2015-09-21                47   \n",
       "3       Aberdeen         8485 2015-03-20                70   \n",
       "4       Aberdeen         8485 2007-02-22                47   \n",
       "\n",
       "  chancecreationshootingclass  defencepressure  year  \n",
       "0                      Normal               50  2016  \n",
       "1                      Normal               47  2015  \n",
       "2                      Normal               47  2015  \n",
       "3                        Lots               60  2015  \n",
       "4                      Normal               47  2007  "
      ]
     },
     "execution_count": 55,
     "metadata": {},
     "output_type": "execute_result"
    }
   ],
   "source": [
    "df_ta3 = df_3.assign(year = lambda x: x.date.dt.year)\n",
    "df_ta3.head()"
   ]
  },
  {
   "cell_type": "markdown",
   "metadata": {},
   "source": [
    "Clearing duplicate years in **df_ta3**"
   ]
  },
  {
   "cell_type": "code",
   "execution_count": 56,
   "metadata": {},
   "outputs": [
    {
     "data": {
      "text/html": [
       "<div>\n",
       "<style scoped>\n",
       "    .dataframe tbody tr th:only-of-type {\n",
       "        vertical-align: middle;\n",
       "    }\n",
       "\n",
       "    .dataframe tbody tr th {\n",
       "        vertical-align: top;\n",
       "    }\n",
       "\n",
       "    .dataframe thead th {\n",
       "        text-align: right;\n",
       "    }\n",
       "</style>\n",
       "<table border=\"1\" class=\"dataframe\">\n",
       "  <thead>\n",
       "    <tr style=\"text-align: right;\">\n",
       "      <th></th>\n",
       "      <th>team_long_name</th>\n",
       "      <th>team_api_id</th>\n",
       "      <th>date</th>\n",
       "      <th>buildupplayspeed</th>\n",
       "      <th>chancecreationshootingclass</th>\n",
       "      <th>defencepressure</th>\n",
       "      <th>year</th>\n",
       "    </tr>\n",
       "  </thead>\n",
       "  <tbody>\n",
       "    <tr>\n",
       "      <th>0</th>\n",
       "      <td>FC Aarau</td>\n",
       "      <td>9930</td>\n",
       "      <td>2016-02-18</td>\n",
       "      <td>60</td>\n",
       "      <td>Normal</td>\n",
       "      <td>50</td>\n",
       "      <td>2016</td>\n",
       "    </tr>\n",
       "    <tr>\n",
       "      <th>1</th>\n",
       "      <td>FC Aarau</td>\n",
       "      <td>9930</td>\n",
       "      <td>2015-11-19</td>\n",
       "      <td>52</td>\n",
       "      <td>Normal</td>\n",
       "      <td>47</td>\n",
       "      <td>2015</td>\n",
       "    </tr>\n",
       "    <tr>\n",
       "      <th>3</th>\n",
       "      <td>Aberdeen</td>\n",
       "      <td>8485</td>\n",
       "      <td>2015-03-20</td>\n",
       "      <td>70</td>\n",
       "      <td>Lots</td>\n",
       "      <td>60</td>\n",
       "      <td>2015</td>\n",
       "    </tr>\n",
       "    <tr>\n",
       "      <th>4</th>\n",
       "      <td>Aberdeen</td>\n",
       "      <td>8485</td>\n",
       "      <td>2007-02-22</td>\n",
       "      <td>47</td>\n",
       "      <td>Normal</td>\n",
       "      <td>47</td>\n",
       "      <td>2007</td>\n",
       "    </tr>\n",
       "    <tr>\n",
       "      <th>5</th>\n",
       "      <td>Aberdeen</td>\n",
       "      <td>8485</td>\n",
       "      <td>2016-04-21</td>\n",
       "      <td>58</td>\n",
       "      <td>Normal</td>\n",
       "      <td>40</td>\n",
       "      <td>2016</td>\n",
       "    </tr>\n",
       "  </tbody>\n",
       "</table>\n",
       "</div>"
      ],
      "text/plain": [
       "  team_long_name  team_api_id       date  buildupplayspeed  \\\n",
       "0       FC Aarau         9930 2016-02-18                60   \n",
       "1       FC Aarau         9930 2015-11-19                52   \n",
       "3       Aberdeen         8485 2015-03-20                70   \n",
       "4       Aberdeen         8485 2007-02-22                47   \n",
       "5       Aberdeen         8485 2016-04-21                58   \n",
       "\n",
       "  chancecreationshootingclass  defencepressure  year  \n",
       "0                      Normal               50  2016  \n",
       "1                      Normal               47  2015  \n",
       "3                        Lots               60  2015  \n",
       "4                      Normal               47  2007  \n",
       "5                      Normal               40  2016  "
      ]
     },
     "execution_count": 56,
     "metadata": {},
     "output_type": "execute_result"
    }
   ],
   "source": [
    "df_ta3.drop_duplicates(subset=['team_long_name','year'],inplace=True)\n",
    "df_ta3.head()"
   ]
  },
  {
   "cell_type": "markdown",
   "metadata": {},
   "source": [
    "Changing the outcome of **df_ta1**"
   ]
  },
  {
   "cell_type": "code",
   "execution_count": 57,
   "metadata": {},
   "outputs": [
    {
     "data": {
      "text/html": [
       "<div>\n",
       "<style scoped>\n",
       "    .dataframe tbody tr th:only-of-type {\n",
       "        vertical-align: middle;\n",
       "    }\n",
       "\n",
       "    .dataframe tbody tr th {\n",
       "        vertical-align: top;\n",
       "    }\n",
       "\n",
       "    .dataframe thead th {\n",
       "        text-align: right;\n",
       "    }\n",
       "</style>\n",
       "<table border=\"1\" class=\"dataframe\">\n",
       "  <thead>\n",
       "    <tr style=\"text-align: right;\">\n",
       "      <th></th>\n",
       "      <th>id</th>\n",
       "      <th>league_name</th>\n",
       "      <th>season</th>\n",
       "      <th>date</th>\n",
       "      <th>home_team_goal</th>\n",
       "      <th>away_team_goal</th>\n",
       "      <th>home_team</th>\n",
       "      <th>away_team</th>\n",
       "      <th>total_goals</th>\n",
       "      <th>outcome</th>\n",
       "    </tr>\n",
       "    <tr>\n",
       "      <th>year</th>\n",
       "      <th></th>\n",
       "      <th></th>\n",
       "      <th></th>\n",
       "      <th></th>\n",
       "      <th></th>\n",
       "      <th></th>\n",
       "      <th></th>\n",
       "      <th></th>\n",
       "      <th></th>\n",
       "      <th></th>\n",
       "    </tr>\n",
       "  </thead>\n",
       "  <tbody>\n",
       "    <tr>\n",
       "      <th>2008</th>\n",
       "      <td>1613</td>\n",
       "      <td>1613</td>\n",
       "      <td>1613</td>\n",
       "      <td>1613</td>\n",
       "      <td>1613</td>\n",
       "      <td>1613</td>\n",
       "      <td>1613</td>\n",
       "      <td>1613</td>\n",
       "      <td>1613</td>\n",
       "      <td>1613</td>\n",
       "    </tr>\n",
       "    <tr>\n",
       "      <th>2009</th>\n",
       "      <td>3306</td>\n",
       "      <td>3306</td>\n",
       "      <td>3306</td>\n",
       "      <td>3306</td>\n",
       "      <td>3306</td>\n",
       "      <td>3306</td>\n",
       "      <td>3306</td>\n",
       "      <td>3306</td>\n",
       "      <td>3306</td>\n",
       "      <td>3306</td>\n",
       "    </tr>\n",
       "    <tr>\n",
       "      <th>2010</th>\n",
       "      <td>3250</td>\n",
       "      <td>3250</td>\n",
       "      <td>3250</td>\n",
       "      <td>3250</td>\n",
       "      <td>3250</td>\n",
       "      <td>3250</td>\n",
       "      <td>3250</td>\n",
       "      <td>3250</td>\n",
       "      <td>3250</td>\n",
       "      <td>3250</td>\n",
       "    </tr>\n",
       "    <tr>\n",
       "      <th>2011</th>\n",
       "      <td>3255</td>\n",
       "      <td>3255</td>\n",
       "      <td>3255</td>\n",
       "      <td>3255</td>\n",
       "      <td>3255</td>\n",
       "      <td>3255</td>\n",
       "      <td>3255</td>\n",
       "      <td>3255</td>\n",
       "      <td>3255</td>\n",
       "      <td>3255</td>\n",
       "    </tr>\n",
       "    <tr>\n",
       "      <th>2012</th>\n",
       "      <td>3269</td>\n",
       "      <td>3269</td>\n",
       "      <td>3269</td>\n",
       "      <td>3269</td>\n",
       "      <td>3269</td>\n",
       "      <td>3269</td>\n",
       "      <td>3269</td>\n",
       "      <td>3269</td>\n",
       "      <td>3269</td>\n",
       "      <td>3269</td>\n",
       "    </tr>\n",
       "    <tr>\n",
       "      <th>2013</th>\n",
       "      <td>3116</td>\n",
       "      <td>3116</td>\n",
       "      <td>3116</td>\n",
       "      <td>3116</td>\n",
       "      <td>3116</td>\n",
       "      <td>3116</td>\n",
       "      <td>3116</td>\n",
       "      <td>3116</td>\n",
       "      <td>3116</td>\n",
       "      <td>3116</td>\n",
       "    </tr>\n",
       "    <tr>\n",
       "      <th>2014</th>\n",
       "      <td>3166</td>\n",
       "      <td>3166</td>\n",
       "      <td>3166</td>\n",
       "      <td>3166</td>\n",
       "      <td>3166</td>\n",
       "      <td>3166</td>\n",
       "      <td>3166</td>\n",
       "      <td>3166</td>\n",
       "      <td>3166</td>\n",
       "      <td>3166</td>\n",
       "    </tr>\n",
       "    <tr>\n",
       "      <th>2015</th>\n",
       "      <td>3374</td>\n",
       "      <td>3374</td>\n",
       "      <td>3374</td>\n",
       "      <td>3374</td>\n",
       "      <td>3374</td>\n",
       "      <td>3374</td>\n",
       "      <td>3374</td>\n",
       "      <td>3374</td>\n",
       "      <td>3374</td>\n",
       "      <td>3374</td>\n",
       "    </tr>\n",
       "    <tr>\n",
       "      <th>2016</th>\n",
       "      <td>1630</td>\n",
       "      <td>1630</td>\n",
       "      <td>1630</td>\n",
       "      <td>1630</td>\n",
       "      <td>1630</td>\n",
       "      <td>1630</td>\n",
       "      <td>1630</td>\n",
       "      <td>1630</td>\n",
       "      <td>1630</td>\n",
       "      <td>1630</td>\n",
       "    </tr>\n",
       "  </tbody>\n",
       "</table>\n",
       "</div>"
      ],
      "text/plain": [
       "        id  league_name  season  date  home_team_goal  away_team_goal  \\\n",
       "year                                                                    \n",
       "2008  1613         1613    1613  1613            1613            1613   \n",
       "2009  3306         3306    3306  3306            3306            3306   \n",
       "2010  3250         3250    3250  3250            3250            3250   \n",
       "2011  3255         3255    3255  3255            3255            3255   \n",
       "2012  3269         3269    3269  3269            3269            3269   \n",
       "2013  3116         3116    3116  3116            3116            3116   \n",
       "2014  3166         3166    3166  3166            3166            3166   \n",
       "2015  3374         3374    3374  3374            3374            3374   \n",
       "2016  1630         1630    1630  1630            1630            1630   \n",
       "\n",
       "      home_team  away_team  total_goals  outcome  \n",
       "year                                              \n",
       "2008       1613       1613         1613     1613  \n",
       "2009       3306       3306         3306     3306  \n",
       "2010       3250       3250         3250     3250  \n",
       "2011       3255       3255         3255     3255  \n",
       "2012       3269       3269         3269     3269  \n",
       "2013       3116       3116         3116     3116  \n",
       "2014       3166       3166         3166     3166  \n",
       "2015       3374       3374         3374     3374  \n",
       "2016       1630       1630         1630     1630  "
      ]
     },
     "execution_count": 57,
     "metadata": {},
     "output_type": "execute_result"
    }
   ],
   "source": [
    "def wld (x,y):\n",
    "    if x > y:\n",
    "        return 'W'\n",
    "    elif x == y:\n",
    "        return 'D'\n",
    "    elif x < y :\n",
    "        return 'L'\n",
    "\n",
    "df_ta1['outcome'] = list(map(wld,df_1['home_team_goal'],df_1['away_team_goal']))\n",
    "df_ta1.groupby('year').count()"
   ]
  },
  {
   "cell_type": "markdown",
   "metadata": {},
   "source": [
    "Merge the two dataframes **df_ta1** and **df_ta3** on **year**, __home_team__ and **team_long_name**"
   ]
  },
  {
   "cell_type": "code",
   "execution_count": 58,
   "metadata": {},
   "outputs": [
    {
     "name": "stdout",
     "output_type": "stream",
     "text": [
      "<class 'pandas.core.frame.DataFrame'>\n",
      "Int64Index: 7327 entries, 0 to 7326\n",
      "Data columns (total 17 columns):\n",
      " #   Column                       Non-Null Count  Dtype         \n",
      "---  ------                       --------------  -----         \n",
      " 0   id                           7327 non-null   int64         \n",
      " 1   league_name                  7327 non-null   object        \n",
      " 2   season                       7327 non-null   object        \n",
      " 3   date_x                       7327 non-null   datetime64[ns]\n",
      " 4   home_team_goal               7327 non-null   int64         \n",
      " 5   away_team_goal               7327 non-null   int64         \n",
      " 6   home_team                    7327 non-null   object        \n",
      " 7   away_team                    7327 non-null   object        \n",
      " 8   total_goals                  7327 non-null   int64         \n",
      " 9   outcome                      7327 non-null   object        \n",
      " 10  year                         7327 non-null   int64         \n",
      " 11  team_long_name               7327 non-null   object        \n",
      " 12  team_api_id                  7327 non-null   int64         \n",
      " 13  date_y                       7327 non-null   datetime64[ns]\n",
      " 14  buildupplayspeed             7327 non-null   int64         \n",
      " 15  chancecreationshootingclass  7327 non-null   object        \n",
      " 16  defencepressure              7327 non-null   int64         \n",
      "dtypes: datetime64[ns](2), int64(8), object(7)\n",
      "memory usage: 1.0+ MB\n"
     ]
    }
   ],
   "source": [
    "df_ta = df_ta1.merge(df_ta3, how = 'inner', left_on=['home_team','year'], right_on=['team_long_name','year'])\n",
    "df_ta.info()"
   ]
  },
  {
   "cell_type": "code",
   "execution_count": 59,
   "metadata": {},
   "outputs": [
    {
     "data": {
      "text/html": [
       "<div>\n",
       "<style scoped>\n",
       "    .dataframe tbody tr th:only-of-type {\n",
       "        vertical-align: middle;\n",
       "    }\n",
       "\n",
       "    .dataframe tbody tr th {\n",
       "        vertical-align: top;\n",
       "    }\n",
       "\n",
       "    .dataframe thead th {\n",
       "        text-align: right;\n",
       "    }\n",
       "</style>\n",
       "<table border=\"1\" class=\"dataframe\">\n",
       "  <thead>\n",
       "    <tr style=\"text-align: right;\">\n",
       "      <th></th>\n",
       "      <th>id</th>\n",
       "      <th>league_name</th>\n",
       "      <th>season</th>\n",
       "      <th>date_x</th>\n",
       "      <th>home_team_goal</th>\n",
       "      <th>away_team_goal</th>\n",
       "      <th>home_team</th>\n",
       "      <th>away_team</th>\n",
       "      <th>total_goals</th>\n",
       "      <th>outcome</th>\n",
       "      <th>year</th>\n",
       "      <th>team_long_name</th>\n",
       "      <th>team_api_id</th>\n",
       "      <th>date_y</th>\n",
       "      <th>buildupplayspeed</th>\n",
       "      <th>chancecreationshootingclass</th>\n",
       "      <th>defencepressure</th>\n",
       "    </tr>\n",
       "  </thead>\n",
       "  <tbody>\n",
       "    <tr>\n",
       "      <th>0</th>\n",
       "      <td>1</td>\n",
       "      <td>Belgium Jupiler League</td>\n",
       "      <td>2008/2009</td>\n",
       "      <td>2008-08-17</td>\n",
       "      <td>1</td>\n",
       "      <td>1</td>\n",
       "      <td>KRC Genk</td>\n",
       "      <td>Beerschot AC</td>\n",
       "      <td>2</td>\n",
       "      <td>D</td>\n",
       "      <td>2008</td>\n",
       "      <td>KRC Genk</td>\n",
       "      <td>9987</td>\n",
       "      <td>2008-08-30</td>\n",
       "      <td>58</td>\n",
       "      <td>Normal</td>\n",
       "      <td>47</td>\n",
       "    </tr>\n",
       "    <tr>\n",
       "      <th>1</th>\n",
       "      <td>1</td>\n",
       "      <td>Belgium Jupiler League</td>\n",
       "      <td>2008/2009</td>\n",
       "      <td>2008-11-15</td>\n",
       "      <td>1</td>\n",
       "      <td>1</td>\n",
       "      <td>KRC Genk</td>\n",
       "      <td>KSV Roeselare</td>\n",
       "      <td>2</td>\n",
       "      <td>D</td>\n",
       "      <td>2008</td>\n",
       "      <td>KRC Genk</td>\n",
       "      <td>9987</td>\n",
       "      <td>2008-08-30</td>\n",
       "      <td>58</td>\n",
       "      <td>Normal</td>\n",
       "      <td>47</td>\n",
       "    </tr>\n",
       "    <tr>\n",
       "      <th>2</th>\n",
       "      <td>1</td>\n",
       "      <td>Belgium Jupiler League</td>\n",
       "      <td>2008/2009</td>\n",
       "      <td>2008-11-29</td>\n",
       "      <td>3</td>\n",
       "      <td>2</td>\n",
       "      <td>KRC Genk</td>\n",
       "      <td>KSV Cercle Brugge</td>\n",
       "      <td>5</td>\n",
       "      <td>W</td>\n",
       "      <td>2008</td>\n",
       "      <td>KRC Genk</td>\n",
       "      <td>9987</td>\n",
       "      <td>2008-08-30</td>\n",
       "      <td>58</td>\n",
       "      <td>Normal</td>\n",
       "      <td>47</td>\n",
       "    </tr>\n",
       "    <tr>\n",
       "      <th>3</th>\n",
       "      <td>1</td>\n",
       "      <td>Belgium Jupiler League</td>\n",
       "      <td>2008/2009</td>\n",
       "      <td>2008-12-13</td>\n",
       "      <td>1</td>\n",
       "      <td>0</td>\n",
       "      <td>KRC Genk</td>\n",
       "      <td>Sporting Charleroi</td>\n",
       "      <td>1</td>\n",
       "      <td>W</td>\n",
       "      <td>2008</td>\n",
       "      <td>KRC Genk</td>\n",
       "      <td>9987</td>\n",
       "      <td>2008-08-30</td>\n",
       "      <td>58</td>\n",
       "      <td>Normal</td>\n",
       "      <td>47</td>\n",
       "    </tr>\n",
       "    <tr>\n",
       "      <th>4</th>\n",
       "      <td>1</td>\n",
       "      <td>Belgium Jupiler League</td>\n",
       "      <td>2008/2009</td>\n",
       "      <td>2008-08-30</td>\n",
       "      <td>1</td>\n",
       "      <td>0</td>\n",
       "      <td>KRC Genk</td>\n",
       "      <td>Sporting Lokeren</td>\n",
       "      <td>1</td>\n",
       "      <td>W</td>\n",
       "      <td>2008</td>\n",
       "      <td>KRC Genk</td>\n",
       "      <td>9987</td>\n",
       "      <td>2008-08-30</td>\n",
       "      <td>58</td>\n",
       "      <td>Normal</td>\n",
       "      <td>47</td>\n",
       "    </tr>\n",
       "  </tbody>\n",
       "</table>\n",
       "</div>"
      ],
      "text/plain": [
       "   id             league_name     season     date_x  home_team_goal  \\\n",
       "0   1  Belgium Jupiler League  2008/2009 2008-08-17               1   \n",
       "1   1  Belgium Jupiler League  2008/2009 2008-11-15               1   \n",
       "2   1  Belgium Jupiler League  2008/2009 2008-11-29               3   \n",
       "3   1  Belgium Jupiler League  2008/2009 2008-12-13               1   \n",
       "4   1  Belgium Jupiler League  2008/2009 2008-08-30               1   \n",
       "\n",
       "   away_team_goal home_team           away_team  total_goals outcome  year  \\\n",
       "0               1  KRC Genk        Beerschot AC            2       D  2008   \n",
       "1               1  KRC Genk       KSV Roeselare            2       D  2008   \n",
       "2               2  KRC Genk   KSV Cercle Brugge            5       W  2008   \n",
       "3               0  KRC Genk  Sporting Charleroi            1       W  2008   \n",
       "4               0  KRC Genk    Sporting Lokeren            1       W  2008   \n",
       "\n",
       "  team_long_name  team_api_id     date_y  buildupplayspeed  \\\n",
       "0       KRC Genk         9987 2008-08-30                58   \n",
       "1       KRC Genk         9987 2008-08-30                58   \n",
       "2       KRC Genk         9987 2008-08-30                58   \n",
       "3       KRC Genk         9987 2008-08-30                58   \n",
       "4       KRC Genk         9987 2008-08-30                58   \n",
       "\n",
       "  chancecreationshootingclass  defencepressure  \n",
       "0                      Normal               47  \n",
       "1                      Normal               47  \n",
       "2                      Normal               47  \n",
       "3                      Normal               47  \n",
       "4                      Normal               47  "
      ]
     },
     "execution_count": 59,
     "metadata": {},
     "output_type": "execute_result"
    }
   ],
   "source": [
    "df_ta.head()"
   ]
  },
  {
   "cell_type": "markdown",
   "metadata": {},
   "source": [
    "Grouping by **chancecreationshootingclass** then **outcome**"
   ]
  },
  {
   "cell_type": "code",
   "execution_count": 60,
   "metadata": {},
   "outputs": [],
   "source": [
    "ccsc = df_ta.groupby(['chancecreationshootingclass', 'outcome']).count()['year']"
   ]
  },
  {
   "cell_type": "code",
   "execution_count": 61,
   "metadata": {},
   "outputs": [],
   "source": [
    "# proportions \n",
    "ccsc = ccsc/df_ta.groupby(['chancecreationshootingclass']).count()['year']"
   ]
  },
  {
   "cell_type": "code",
   "execution_count": 62,
   "metadata": {},
   "outputs": [
    {
     "data": {
      "text/plain": [
       "chancecreationshootingclass  outcome\n",
       "Little                       D          0.242991\n",
       "                             L          0.224299\n",
       "                             W          0.532710\n",
       "Lots                         D          0.224595\n",
       "                             L          0.229773\n",
       "                             W          0.545631\n",
       "Normal                       D          0.260264\n",
       "                             L          0.294449\n",
       "                             W          0.445286\n",
       "Name: year, dtype: float64"
      ]
     },
     "execution_count": 62,
     "metadata": {},
     "output_type": "execute_result"
    }
   ],
   "source": [
    "ccsc"
   ]
  },
  {
   "cell_type": "markdown",
   "metadata": {},
   "source": [
    "<a id='q5'></a>\n",
    "Ploting on a bar chart "
   ]
  },
  {
   "cell_type": "code",
   "execution_count": 63,
   "metadata": {
    "scrolled": true
   },
   "outputs": [
    {
     "data": {
      "image/png": "[encoded data removed]",
      "text/plain": [
       "<Figure size 720x720 with 1 Axes>"
      ]
     },
     "metadata": {
      "needs_background": "light"
     },
     "output_type": "display_data"
    }
   ],
   "source": [
    "ind = np.arange(0,3,1)\n",
    "width = 0.2\n",
    "plt.figure(figsize = (10,10))\n",
    "plt.bar(ind-0.2,ccsc[0:3],width)\n",
    "plt.bar(ind,ccsc[3:6],width)\n",
    "plt.bar(ind+0.2,ccsc[6:9],width)\n",
    "plt.xticks(ind,('Draw','Lose','Win'));\n",
    "plt.xlabel('Outcome', fontsize = 12)\n",
    "plt.ylabel('Proportion of outcomes', fontsize = 12)\n",
    "plt.title('Shooting class outcomes', fontsize = 13)\n",
    "plt.legend(['Little','Lots','Normal'],fontsize = 13);"
   ]
  },
  {
   "cell_type": "markdown",
   "metadata": {},
   "source": [
    "A bar chart was used because the comparison was between quantitative data and categorical data and the categorical data are of two categories(using **outcome** and **legends** to differentiate them).\n",
    "<br>The **lots** class seems to be the most efficient"
   ]
  },
  {
   "cell_type": "markdown",
   "metadata": {},
   "source": [
    "Creating a scatter plot diagram to know if **buildupplayspeed** has any influence on **home_team_goal**"
   ]
  },
  {
   "cell_type": "code",
   "execution_count": 64,
   "metadata": {
    "scrolled": true
   },
   "outputs": [
    {
     "data": {
      "text/plain": [
       "Text(0.5, 1.0, 'Scatter plot of build up play speed vs goals scored')"
      ]
     },
     "execution_count": 64,
     "metadata": {},
     "output_type": "execute_result"
    },
    {
     "data": {
      "image/png": "[encoded data removed]",
      "text/plain": [
       "<Figure size 432x288 with 1 Axes>"
      ]
     },
     "metadata": {
      "needs_background": "light"
     },
     "output_type": "display_data"
    }
   ],
   "source": [
    "plt.scatter(df_ta['buildupplayspeed'],df_ta['home_team_goal'])\n",
    "plt.xlabel('Build up play speed', fontsize = 12)\n",
    "plt.ylabel('Goals scored', fontsize = 12)\n",
    "plt.title('Scatter plot of build up play speed vs goals scored', fontsize = 13)\n"
   ]
  },
  {
   "cell_type": "markdown",
   "metadata": {},
   "source": [
    "The scatter plot was used because the variables being considered are both quantitative data and a x-axis value could be \n",
    "connected to multiple values on the y-axis.<br>\n",
    "Two of the four 7+ goal games came from **build up play speed** of __50__"
   ]
  },
  {
   "cell_type": "markdown",
   "metadata": {},
   "source": [
    "Creating a scatter plot diagram to know if **defencepressure** has any influence on **away_team_goal**"
   ]
  },
  {
   "cell_type": "code",
   "execution_count": 65,
   "metadata": {
    "scrolled": true
   },
   "outputs": [
    {
     "data": {
      "text/plain": [
       "Text(0.5, 1.0, 'Scatter plot of defence pressure vs goals conceded')"
      ]
     },
     "execution_count": 65,
     "metadata": {},
     "output_type": "execute_result"
    },
    {
     "data": {
      "image/png": "[encoded data removed]",
      "text/plain": [
       "<Figure size 432x288 with 1 Axes>"
      ]
     },
     "metadata": {
      "needs_background": "light"
     },
     "output_type": "display_data"
    }
   ],
   "source": [
    "plt.scatter(df_ta['defencepressure'],df_ta['away_team_goal'])\n",
    "plt.xlabel('Defence pressure', fontsize = 12)\n",
    "plt.ylabel('Goals conceded', fontsize = 12)\n",
    "plt.title('Scatter plot of defence pressure vs goals conceded', fontsize = 13)"
   ]
  },
  {
   "cell_type": "markdown",
   "metadata": {},
   "source": [
    "The scatter plot was used because the variables being considered are both quantitative data and a x-axis value could be \n",
    "connected to multiple values on the y-axis.<br>"
   ]
  },
  {
   "cell_type": "markdown",
   "metadata": {},
   "source": [
    "<a id='conclusions'></a>\n",
    "## Conclusions\n"
   ]
  },
  {
   "cell_type": "markdown",
   "metadata": {},
   "source": [
    "### Research Question 1:  League with the highest number of average goals scored per game \n"
   ]
  },
  {
   "cell_type": "markdown",
   "metadata": {},
   "source": [
    "The data shows that the league with the highest number of average goals scored by game is the **Netherlands Eredivisie** with **3.08** goals per game, followed by the **Switzerland super league** and then the **Germany 1. Bundesliga**.\n",
    "<br> A Bar chart showing the full results can be found <a href = #q1>here</a>"
   ]
  },
  {
   "cell_type": "markdown",
   "metadata": {},
   "source": [
    "### Research Question 2: Do home teams win more games than away teams \n",
    "\n",
    "After analyzing the data it is clear that the home teams do win more games than the away teams with draws being the least common outcome.<br>\n",
    "The home teams had **4451** more wins than the away teams from a sample size of **25979** games.\n",
    "<br>The full result can be found <a href =#q2>here</a>\n"
   ]
  },
  {
   "cell_type": "markdown",
   "metadata": {},
   "source": [
    "### Research Question 3: The teams with the most wins in each League in the 2014/2015 season\n",
    "\n",
    "The teams with the most wins in each league can be found <a href = #q3>in this bar chart</a>.\n",
    "\n",
    "In the 2014/2015 season the team with the most wins was a tie between **Real Madrid** and **Barcelona** with **30** goals each and both teams being in the **Spanish la liga** league.\n",
    "<br>\n",
    "This is the full table and a bar chart showing the results can be found <a href = #q3b>here</a>\n",
    "\n",
    "league_name|\twinning_team\t|id\n",
    "------------|------------|--------\n",
    "Spain LIGA BBVA|\tReal Madrid CF\t|30\n",
    "Netherlands Eredivisie|\tPSV\t|29\n",
    "Scotland Premier League|\tCeltic\t|29\n",
    "Portugal Liga ZON Sagres|\tSL Benfica\t|27\n",
    "Italy Serie A\t|Juventus\t|26\n",
    "England Premier League|\tChelsea|\t26\n",
    "Germany 1. Bundesliga|\tFC Bayern Munich|\t25\n",
    "France Ligue 1|\tParis Saint-Germain|\t24\n",
    "Switzerland Super League|\tFC Basel\t|24\n",
    "Poland Ekstraklasa|\tLegia Warszawa\t|17\n",
    "Belgium Jupiler League|\tClub Brugge KV\t|17\n"
   ]
  },
  {
   "cell_type": "markdown",
   "metadata": {},
   "source": [
    "### Research Question 4: Did players in 2016 meet the potential set for them in 2007\n",
    "\n",
    "About **40.4** percent of players(**2225 players**) met the potential set for them and __59.6__ percent(**3278 players**) did not.<br> \n",
    "According to this <a href = #q4>scatterplot</a> there is a correlation between the ages of players in 2007 and their rate of improvement. With players between ages 13 and 22 improving the most over the years, although this could have been caused by some other factor or variable."
   ]
  },
  {
   "cell_type": "markdown",
   "metadata": {},
   "source": [
    "### Research Question 5: Team attribute leading to victory\n",
    "\n",
    "Chance creation by shooting have 3 different classes called __little__,__lots__,and __normal__.\n",
    "<br>\n",
    "The data shows that the **little** class led to more ratio of wins than the other classes and the **normal** class had more ratio of losses than the other classes. \n",
    "This is the <a href=#q5>Bar chart</a> showing the result.\n",
    "<br>\n",
    "Scatter plots between **build up play speed** and **goals scored** showed no strong correlation between the two<br> \n",
    "Scatter plots between **defence pressure** and **goals conceded** showed no strong correlation between the two"
   ]
  },
  {
   "cell_type": "markdown",
   "metadata": {},
   "source": [
    "### Limitations\n",
    "><li>The latest data in the dataset was from 2016, therefore the data isnt current.\n",
    " <li>The data is incomplete especially when joining tables: From the 25979 mathes only 7327 (28.2%) were matched with teams and team attributes.\n",
    " <li>Years 2008 and 2016 have significantly less data in the match table than other years and might not represent the population."
   ]
  },
  {
   "cell_type": "markdown",
   "metadata": {},
   "source": [
    "### Resources used:\n",
    "><li> Kaggle \n",
    " <li> Stackoverflow\n",
    " <li> Matplotlib.org"
   ]
  },
  {
   "cell_type": "code",
   "execution_count": null,
   "metadata": {},
   "outputs": [],
   "source": []
  }
 ],
 "metadata": {
  "kernelspec": {
   "display_name": "Python 3",
   "language": "python",
   "name": "python3"
  },
  "language_info": {
   "codemirror_mode": {
    "name": "ipython",
    "version": 3
   },
   "file_extension": ".py",
   "mimetype": "text/x-python",
   "name": "python",
   "nbconvert_exporter": "python",
   "pygments_lexer": "ipython3",
   "version": "3.8.5"
  }
 },
 "nbformat": 4,
 "nbformat_minor": 2
}
